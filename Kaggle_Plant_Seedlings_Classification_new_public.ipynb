{
  "nbformat": 4,
  "nbformat_minor": 0,
  "metadata": {
    "colab": {
      "name": "Kaggle_Plant_Seedlings_Classification_new_public.ipynb",
      "provenance": [],
      "collapsed_sections": [],
      "include_colab_link": true
    },
    "kernelspec": {
      "display_name": "Python 3",
      "language": "python",
      "name": "python3"
    }
  },
  "cells": [
    {
      "cell_type": "markdown",
      "metadata": {
        "id": "view-in-github",
        "colab_type": "text"
      },
      "source": [
        "<a href=\"https://colab.research.google.com/github/pursh2002/Study-Group-AI-deeplearning-Saturday-by-Nurture.AI-2018/blob/master/Kaggle_Plant_Seedlings_Classification_new_public.ipynb\" target=\"_parent\"><img src=\"https://colab.research.google.com/assets/colab-badge.svg\" alt=\"Open In Colab\"/></a>"
      ]
    },
    {
      "cell_type": "markdown",
      "metadata": {
        "id": "vE07hCIDFIrN",
        "colab_type": "text"
      },
      "source": [
        "## Image classification with Convolutional Neural Networks"
      ]
    },
    {
      "cell_type": "markdown",
      "metadata": {
        "id": "oZLmiFN-FIrP",
        "colab_type": "text"
      },
      "source": [
        "## Kaggle - Plant Seedlings Classification"
      ]
    },
    {
      "cell_type": "code",
      "metadata": {
        "id": "Eq9qwS-sz264",
        "colab_type": "code",
        "colab": {
          "base_uri": "https://localhost:8080/",
          "height": 34
        },
        "outputId": "fe288914-e073-4c10-f848-b158d3fc452c"
      },
      "source": [
        "ls"
      ],
      "execution_count": null,
      "outputs": [
        {
          "output_type": "stream",
          "text": [
            "\u001b[0m\u001b[01;34mdatalab\u001b[0m/\r\n"
          ],
          "name": "stdout"
        }
      ]
    },
    {
      "cell_type": "code",
      "metadata": {
        "id": "ur5aIPPQFYc6",
        "colab_type": "code",
        "colab": {
          "base_uri": "https://localhost:8080/",
          "height": 598
        },
        "outputId": "7fb17b11-9ea1-48d1-c894-ce6663cbb78c"
      },
      "source": [
        "!wget --header=\"Host: storage.googleapis.com\" --header=\"User-Agent: Mozilla/5.0 (Macintosh; Intel Mac OS X 10_13_2) AppleWebKit/537.36 (KHTML, like Gecko) Chrome/64.0.3282.186 Safari/537.36\" --header=\"Accept: text/html,application/xhtml+xml,application/xml;q=0.9,image/webp,image/apng,*/*;q=0.8\" --header=\"Accept-Language: en-GB,en-US;q=0.9,en;q=0.8\" \"https://storage.googleapis.com/kaggle-competitions-data/kaggle/7880/sample_submission.csv.zip?GoogleAccessId=web-data@kaggle-161607.iam.gserviceaccount.com&Expires=1521129440&Signature=s5RDlxsTsaUbldsUKkPmB6TDX8Na5nx0tVnVWXGC4DeAb%2BtwwZT5m02V%2BsGY19C3GvNI7dKXSJktz7tvSOd0kZQoHANiGqB6VtJ8ef8hezCk7VEc5KQQExBTET%2BUHDnOZd2%2BHWuhwsxKBSISkBPj%2FkYFM89OvGWBWq9wIRQF%2B7mmvUSMYUT%2FZ1pL0QTxKyIiI6iU7I3Xf3B5M%2FQV8jRogjsWHBUvxnOizo7PHN14KaAhomivNv%2FTa54oq2VcLBXpHwCwlJWd2m2VAsc6b%2FVP4Cn80ZZwoAve29qDd92ayH1evEFE4evOtPlJr2%2Fm42y6BFx6vi0%2Fz4%2BqkPViQJkBAQ%3D%3D\" -O \"sample_submission.csv.zip\" -c\n",
        "!wget --header=\"Host: storage.googleapis.com\" --header=\"User-Agent: Mozilla/5.0 (Macintosh; Intel Mac OS X 10_13_2) AppleWebKit/537.36 (KHTML, like Gecko) Chrome/64.0.3282.186 Safari/537.36\" --header=\"Accept: text/html,application/xhtml+xml,application/xml;q=0.9,image/webp,image/apng,*/*;q=0.8\" --header=\"Accept-Language: en-GB,en-US;q=0.9,en;q=0.8\" \"https://storage.googleapis.com/kaggle-competitions-data/kaggle/7880/test.zip?GoogleAccessId=web-data@kaggle-161607.iam.gserviceaccount.com&Expires=1521129533&Signature=L10yySIS2CPy836w2Fn%2BBj%2BCNKn4%2FwVc%2BpkMma4yZqY%2FBP6W0qMDRto44rQBttE66kIU0hFnKizedGgsJOe9Ip1OKRWT0b5sq0ZmfF5RK6fz%2BRV0yygnAP5%2BVX40UVf4tj0e3%2B34MRYyvmhGuBtqJLQpdM%2FdpnGeHdEI8mYljF9AAy1GAByOcgZNH5ggTILZqKQZgEBevbEytvtu9NiCHuOyVVBhTEda6kabnXSXAXMYcHcZuAhFBsDKfibwAyu8W1KVd3gi4WbjvhWUdSASrtazgxR0ip8Mk7hynEF9Ln1xe09iorpinm5VHXPAp7gIBWpRYuTY7LbQpOdoVLzBxw%3D%3D\" -O \"test.zip\" -c\n",
        "!wget --header=\"Host: storage.googleapis.com\" --header=\"User-Agent: Mozilla/5.0 (Macintosh; Intel Mac OS X 10_13_2) AppleWebKit/537.36 (KHTML, like Gecko) Chrome/64.0.3282.186 Safari/537.36\" --header=\"Accept: text/html,application/xhtml+xml,application/xml;q=0.9,image/webp,image/apng,*/*;q=0.8\" --header=\"Accept-Language: en-GB,en-US;q=0.9,en;q=0.8\" \"https://storage.googleapis.com/kaggle-competitions-data/kaggle/7880/train.zip?GoogleAccessId=web-data@kaggle-161607.iam.gserviceaccount.com&Expires=1521129557&Signature=EOS%2Ba%2FkcUWnaWyFOARHniQwSZFZZwvIqVc%2FoKK%2FJylGzgVsD1WF8Af0CqGbqJrcjHqxkwkrlbY6H8UswMd5meq9zZiJwkl95ubUrxLHHcwlTbBpYLVQm4B%2B841VdRuP4K6nMXAC7YV6ZTBYXwgB4Ad0lrsA50VF%2FUOlbEjx3FlEHftZspmHmppCwWq%2BUMnSYsWsIVLIzgi9xcB7OOBC1O8lGSEPMvsikm59WU4Ac21pM1xa6042mOvOKFRtLctaXekV1I8a60YqIifzOUHBLpe0DBtdw26W9NpzkuiHgSiJVQKpDuS8MH%2FVQlt63M4vw5%2FoG7HGzlNi5nxVgYb2FPA%3D%3D\" -O \"train.zip\" -c"
      ],
      "execution_count": null,
      "outputs": [
        {
          "output_type": "stream",
          "text": [
            "--2018-03-15 07:32:54--  https://storage.googleapis.com/kaggle-competitions-data/kaggle/7880/sample_submission.csv.zip?GoogleAccessId=web-data@kaggle-161607.iam.gserviceaccount.com&Expires=1521129440&Signature=s5RDlxsTsaUbldsUKkPmB6TDX8Na5nx0tVnVWXGC4DeAb%2BtwwZT5m02V%2BsGY19C3GvNI7dKXSJktz7tvSOd0kZQoHANiGqB6VtJ8ef8hezCk7VEc5KQQExBTET%2BUHDnOZd2%2BHWuhwsxKBSISkBPj%2FkYFM89OvGWBWq9wIRQF%2B7mmvUSMYUT%2FZ1pL0QTxKyIiI6iU7I3Xf3B5M%2FQV8jRogjsWHBUvxnOizo7PHN14KaAhomivNv%2FTa54oq2VcLBXpHwCwlJWd2m2VAsc6b%2FVP4Cn80ZZwoAve29qDd92ayH1evEFE4evOtPlJr2%2Fm42y6BFx6vi0%2Fz4%2BqkPViQJkBAQ%3D%3D\r\n",
            "Resolving storage.googleapis.com (storage.googleapis.com)... 74.125.141.128, 2607:f8b0:400c:c06::80\r\n",
            "Connecting to storage.googleapis.com (storage.googleapis.com)|74.125.141.128|:443... connected.\n",
            "HTTP request sent, awaiting response... 200 OK\n",
            "Length: 5251 (5.1K) [application/zip]\n",
            "Saving to: ‘sample_submission.csv.zip’\n",
            "\n",
            "sample_submission.c 100%[===================>]   5.13K  --.-KB/s    in 0s      \n",
            "\n",
            "2018-03-15 07:32:54 (96.4 MB/s) - ‘sample_submission.csv.zip’ saved [5251/5251]\n",
            "\n",
            "--2018-03-15 07:32:54--  https://storage.googleapis.com/kaggle-competitions-data/kaggle/7880/test.zip?GoogleAccessId=web-data@kaggle-161607.iam.gserviceaccount.com&Expires=1521129533&Signature=L10yySIS2CPy836w2Fn%2BBj%2BCNKn4%2FwVc%2BpkMma4yZqY%2FBP6W0qMDRto44rQBttE66kIU0hFnKizedGgsJOe9Ip1OKRWT0b5sq0ZmfF5RK6fz%2BRV0yygnAP5%2BVX40UVf4tj0e3%2B34MRYyvmhGuBtqJLQpdM%2FdpnGeHdEI8mYljF9AAy1GAByOcgZNH5ggTILZqKQZgEBevbEytvtu9NiCHuOyVVBhTEda6kabnXSXAXMYcHcZuAhFBsDKfibwAyu8W1KVd3gi4WbjvhWUdSASrtazgxR0ip8Mk7hynEF9Ln1xe09iorpinm5VHXPAp7gIBWpRYuTY7LbQpOdoVLzBxw%3D%3D\n",
            "Resolving storage.googleapis.com (storage.googleapis.com)... 74.125.141.128, 2607:f8b0:400c:c06::80\n",
            "Connecting to storage.googleapis.com (storage.googleapis.com)|74.125.141.128|:443... connected.\n",
            "HTTP request sent, awaiting response... 200 OK\n",
            "Length: 90141460 (86M) [application/zip]\n",
            "Saving to: ‘test.zip’\n",
            "\n",
            "test.zip            100%[===================>]  85.96M   133MB/s    in 0.6s    \n",
            "\n",
            "2018-03-15 07:32:55 (133 MB/s) - ‘test.zip’ saved [90141460/90141460]\n",
            "\n",
            "--2018-03-15 07:32:55--  https://storage.googleapis.com/kaggle-competitions-data/kaggle/7880/train.zip?GoogleAccessId=web-data@kaggle-161607.iam.gserviceaccount.com&Expires=1521129557&Signature=EOS%2Ba%2FkcUWnaWyFOARHniQwSZFZZwvIqVc%2FoKK%2FJylGzgVsD1WF8Af0CqGbqJrcjHqxkwkrlbY6H8UswMd5meq9zZiJwkl95ubUrxLHHcwlTbBpYLVQm4B%2B841VdRuP4K6nMXAC7YV6ZTBYXwgB4Ad0lrsA50VF%2FUOlbEjx3FlEHftZspmHmppCwWq%2BUMnSYsWsIVLIzgi9xcB7OOBC1O8lGSEPMvsikm59WU4Ac21pM1xa6042mOvOKFRtLctaXekV1I8a60YqIifzOUHBLpe0DBtdw26W9NpzkuiHgSiJVQKpDuS8MH%2FVQlt63M4vw5%2FoG7HGzlNi5nxVgYb2FPA%3D%3D\n",
            "Resolving storage.googleapis.com (storage.googleapis.com)... 74.125.141.128, 2607:f8b0:400c:c06::80\n",
            "Connecting to storage.googleapis.com (storage.googleapis.com)|74.125.141.128|:443... connected.\n",
            "HTTP request sent, awaiting response... 200 OK\n",
            "Length: 1718530069 (1.6G) [application/zip]\n",
            "Saving to: ‘train.zip’\n",
            "\n",
            "train.zip            54%[=========>          ] 888.72M   142MB/s    eta 6s     "
          ],
          "name": "stdout"
        },
        {
          "output_type": "stream",
          "text": [
            "train.zip           100%[===================>]   1.60G   142MB/s    in 11s     \n",
            "\n",
            "2018-03-15 07:33:07 (145 MB/s) - ‘train.zip’ saved [1718530069/1718530069]\n",
            "\n"
          ],
          "name": "stdout"
        }
      ]
    },
    {
      "cell_type": "code",
      "metadata": {
        "id": "9eYGbGuzRKqV",
        "colab_type": "code",
        "colab": {
          "base_uri": "https://localhost:8080/",
          "height": 34
        },
        "outputId": "dc59851b-d62c-4af8-cb11-65552d33dc5b"
      },
      "source": [
        "ls"
      ],
      "execution_count": null,
      "outputs": [
        {
          "output_type": "stream",
          "text": [
            "\u001b[0m\u001b[01;34mdatalab\u001b[0m/  sample_submission.csv.zip  test.zip  train.zip\r\n"
          ],
          "name": "stdout"
        }
      ]
    },
    {
      "cell_type": "code",
      "metadata": {
        "id": "noQ7QVi1FYoB",
        "colab_type": "code",
        "colab": {}
      },
      "source": [
        "!unzip train.zip\n",
        "!unzip test.zip\n",
        "!unzip sample_submission.csv.zip"
      ],
      "execution_count": null,
      "outputs": []
    },
    {
      "cell_type": "code",
      "metadata": {
        "id": "srHUE8P1Wnin",
        "colab_type": "code",
        "colab": {
          "base_uri": "https://localhost:8080/",
          "height": 51
        },
        "outputId": "98875e92-89ac-408d-98ee-4c546829fcdf"
      },
      "source": [
        "ls"
      ],
      "execution_count": null,
      "outputs": [
        {
          "output_type": "stream",
          "text": [
            "\u001b[0m\u001b[01;34mdatalab\u001b[0m/               sample_submission.csv.zip  test.zip  train.zip\r\n",
            "sample_submission.csv  \u001b[01;34mtest\u001b[0m/                      \u001b[01;34mtrain\u001b[0m/\r\n"
          ],
          "name": "stdout"
        }
      ]
    },
    {
      "cell_type": "code",
      "metadata": {
        "id": "u9Gbj2n1ZW1I",
        "colab_type": "code",
        "colab": {}
      },
      "source": [
        ""
      ],
      "execution_count": null,
      "outputs": []
    },
    {
      "cell_type": "code",
      "metadata": {
        "id": "XkxoFj5KGf7i",
        "colab_type": "code",
        "colab": {}
      },
      "source": [
        "from IPython.display import Image\n",
        "from IPython.core.display import HTML"
      ],
      "execution_count": null,
      "outputs": []
    },
    {
      "cell_type": "code",
      "metadata": {
        "id": "XMYtGf5QKHiC",
        "colab_type": "code",
        "colab": {
          "base_uri": "https://localhost:8080/",
          "height": 517
        },
        "outputId": "3b2ac5d4-e6cf-42fb-ce4d-722127950ebe"
      },
      "source": [
        "Image(filename = \"train/Black-grass/05eedce4d.png\", width=500, height=500)"
      ],
      "execution_count": null,
      "outputs": [
        {
          "output_type": "execute_result",
          "data": {
            "image/png": "[encoded data removed]",
            "text/plain": [
              "<IPython.core.display.Image object>"
            ]
          },
          "metadata": {
            "tags": [],
            "image/png": {
              "width": 500,
              "height": 500
            }
          },
          "execution_count": 7
        }
      ]
    },
    {
      "cell_type": "code",
      "metadata": {
        "id": "KLJDnuFGZ4df",
        "colab_type": "code",
        "colab": {}
      },
      "source": [
        "from glob import glob\n",
        "import pandas as pd\n",
        "\n",
        "df = pd.DataFrame(columns=[\"file\", \"species\"])\n",
        "\n",
        "for image in glob(f'train/**/*.png'):\n",
        "    dir_ = image.split('/')\n",
        "    file_, species = dir_[-1], dir_[-2]\n",
        "\n",
        "    df = df.append({\n",
        "        \"file\": file_,\n",
        "        \"species\": species.replace(\" \", \"_\")\n",
        "        }, ignore_index=True)\n",
        "\n",
        "df.to_csv('labels.csv', index=False)"
      ],
      "execution_count": null,
      "outputs": []
    },
    {
      "cell_type": "code",
      "metadata": {
        "id": "iEwU5q1KcCDU",
        "colab_type": "code",
        "colab": {
          "base_uri": "https://localhost:8080/",
          "height": 34
        },
        "outputId": "1dbb2c74-e2d8-4fcc-fb56-3f1c65fa07b2"
      },
      "source": [
        "image"
      ],
      "execution_count": null,
      "outputs": [
        {
          "output_type": "execute_result",
          "data": {
            "text/plain": [
              "'train/Charlock/846db9b8a.png'"
            ]
          },
          "metadata": {
            "tags": []
          },
          "execution_count": 9
        }
      ]
    },
    {
      "cell_type": "code",
      "metadata": {
        "id": "lzT2VylrdPYk",
        "colab_type": "code",
        "colab": {
          "base_uri": "https://localhost:8080/",
          "height": 34
        },
        "outputId": "92d75289-becc-4b85-8097-b16e010366d6"
      },
      "source": [
        "image.split('/')"
      ],
      "execution_count": null,
      "outputs": [
        {
          "output_type": "execute_result",
          "data": {
            "text/plain": [
              "['train', 'Charlock', '846db9b8a.png']"
            ]
          },
          "metadata": {
            "tags": []
          },
          "execution_count": 10
        }
      ]
    },
    {
      "cell_type": "code",
      "metadata": {
        "id": "jtbcJ3k_Kz_f",
        "colab_type": "code",
        "colab": {}
      },
      "source": [
        "labels = pd.read_csv('labels.csv')"
      ],
      "execution_count": null,
      "outputs": []
    },
    {
      "cell_type": "code",
      "metadata": {
        "id": "IocAiWGRam86",
        "colab_type": "code",
        "colab": {}
      },
      "source": [
        "a = labels['species'].unique()"
      ],
      "execution_count": null,
      "outputs": []
    },
    {
      "cell_type": "code",
      "metadata": {
        "id": "_00Jv_qNEDR7",
        "colab_type": "code",
        "colab": {
          "base_uri": "https://localhost:8080/",
          "height": 68
        },
        "outputId": "e6554767-5bed-4bae-a1ad-d73f7ced035e"
      },
      "source": [
        "print(a)"
      ],
      "execution_count": null,
      "outputs": [
        {
          "output_type": "stream",
          "text": [
            "['Shepherds_Purse' 'Common_wheat' 'Sugar_beet' 'Maize' 'Common_Chickweed'\n",
            " 'Black-grass' 'Loose_Silky-bent' 'Fat_Hen' 'Cleavers' 'Scentless_Mayweed'\n",
            " 'Small-flowered_Cranesbill' 'Charlock']\n"
          ],
          "name": "stdout"
        }
      ]
    },
    {
      "cell_type": "code",
      "metadata": {
        "id": "dKPzvT1-FYss",
        "colab_type": "code",
        "colab": {}
      },
      "source": [
        "# http://pytorch.org/\n",
        "from os import path\n",
        "from wheel.pep425tags import get_abbr_impl, get_impl_ver, get_abi_tag\n",
        "platform = '{}{}-{}'.format(get_abbr_impl(), get_impl_ver(), get_abi_tag())\n",
        "\n",
        "accelerator = 'cu80' if path.exists('/opt/bin/nvidia-smi') else 'cpu'\n",
        "\n",
        "!pip install -q http://download.pytorch.org/whl/{accelerator}/torch-0.3.0.post4-{platform}-linux_x86_64.whl torchvision\n",
        "import torch"
      ],
      "execution_count": null,
      "outputs": []
    },
    {
      "cell_type": "code",
      "metadata": {
        "id": "Ew7MocwNFYxr",
        "colab_type": "code",
        "colab": {}
      },
      "source": [
        "# https://opencv.org/\n",
        "!apt-get -qq install -y libsm6 libxext6 && pip install -q -U opencv-python\n",
        "import cv2"
      ],
      "execution_count": null,
      "outputs": []
    },
    {
      "cell_type": "code",
      "metadata": {
        "id": "OIvTSpmSpjP3",
        "colab_type": "code",
        "colab": {}
      },
      "source": [
        "from sklearn.model_selection import StratifiedKFold"
      ],
      "execution_count": null,
      "outputs": []
    },
    {
      "cell_type": "code",
      "metadata": {
        "id": "LymNQfN5FY13",
        "colab_type": "code",
        "colab": {
          "base_uri": "https://localhost:8080/",
          "height": 3318
        },
        "outputId": "3c7a1fa4-9c3f-4529-d1cb-3dc2b08b8557"
      },
      "source": [
        "!pip install fastai"
      ],
      "execution_count": null,
      "outputs": [
        {
          "output_type": "stream",
          "text": [
            "Collecting fastai\n",
            "  Using cached fastai-0.6.tar.gz\n",
            "Requirement already satisfied: Jinja2 in /usr/local/lib/python3.6/dist-packages (from fastai)\n",
            "Requirement already satisfied: MarkupSafe in /usr/local/lib/python3.6/dist-packages (from fastai)\n",
            "Requirement already satisfied: Pillow in /usr/local/lib/python3.6/dist-packages (from fastai)\n",
            "Requirement already satisfied: PyYAML in /usr/local/lib/python3.6/dist-packages (from fastai)\n",
            "Requirement already satisfied: Pygments in /usr/local/lib/python3.6/dist-packages (from fastai)\n",
            "Collecting awscli (from fastai)\n",
            "  Using cached awscli-1.14.56-py2.py3-none-any.whl\n",
            "Collecting bcolz (from fastai)\n",
            "  Using cached bcolz-1.1.2.tar.gz\n",
            "Requirement already satisfied: bleach in /usr/local/lib/python3.6/dist-packages (from fastai)\n",
            "Requirement already satisfied: certifi in /usr/local/lib/python3.6/dist-packages (from fastai)\n",
            "Requirement already satisfied: cycler in /usr/local/lib/python3.6/dist-packages (from fastai)\n",
            "Requirement already satisfied: decorator in /usr/local/lib/python3.6/dist-packages (from fastai)\n",
            "Requirement already satisfied: entrypoints in /usr/local/lib/python3.6/dist-packages (from fastai)\n",
            "Collecting feather-format (from fastai)\n",
            "  Downloading feather-format-0.4.0.tar.gz\n",
            "Collecting graphviz (from fastai)\n",
            "  Downloading graphviz-0.8.2-py2.py3-none-any.whl\n",
            "Requirement already satisfied: html5lib in /usr/local/lib/python3.6/dist-packages (from fastai)\n",
            "Requirement already satisfied: ipykernel in /usr/local/lib/python3.6/dist-packages (from fastai)\n",
            "Requirement already satisfied: ipython in /usr/local/lib/python3.6/dist-packages (from fastai)\n",
            "Requirement already satisfied: ipython-genutils in /usr/local/lib/python3.6/dist-packages (from fastai)\n",
            "Collecting ipywidgets (from fastai)\n",
            "  Downloading ipywidgets-7.1.2-py2.py3-none-any.whl (68kB)\n",
            "\u001b[K    100% |████████████████████████████████| 71kB 3.1MB/s \n",
            "\u001b[?25hCollecting isoweek (from fastai)\n",
            "  Downloading isoweek-1.3.3-py2.py3-none-any.whl\n",
            "Collecting jedi (from fastai)\n",
            "  Downloading jedi-0.11.1-py2.py3-none-any.whl (250kB)\n",
            "\u001b[K    100% |████████████████████████████████| 256kB 3.0MB/s \n",
            "\u001b[?25hRequirement already satisfied: jsonschema in /usr/local/lib/python3.6/dist-packages (from fastai)\n",
            "Collecting jupyter (from fastai)\n",
            "  Downloading jupyter-1.0.0-py2.py3-none-any.whl\n",
            "Requirement already satisfied: jupyter-client in /usr/local/lib/python3.6/dist-packages (from fastai)\n",
            "Collecting jupyter-console (from fastai)\n",
            "  Downloading jupyter_console-5.2.0-py2.py3-none-any.whl\n",
            "Requirement already satisfied: jupyter-core in /usr/local/lib/python3.6/dist-packages (from fastai)\n",
            "Collecting jupyter_contrib_nbextensions (from fastai)\n",
            "  Downloading jupyter_contrib_nbextensions-0.4.0-py2.py3-none-any.whl (20.8MB)\n",
            "\u001b[K    100% |████████████████████████████████| 20.8MB 61kB/s \n",
            "\u001b[?25hCollecting kaggle-cli (from fastai)\n",
            "  Downloading kaggle-cli-0.12.13.tar.gz\n"
          ],
          "name": "stdout"
        },
        {
          "output_type": "stream",
          "text": [
            "Requirement already satisfied: matplotlib in /usr/local/lib/python3.6/dist-packages (from fastai)\r\n",
            "Requirement already satisfied: mistune in /usr/local/lib/python3.6/dist-packages (from fastai)\r\n",
            "Requirement already satisfied: nbconvert in /usr/local/lib/python3.6/dist-packages (from fastai)\r\n",
            "Requirement already satisfied: nbformat in /usr/local/lib/python3.6/dist-packages (from fastai)\n",
            "Requirement already satisfied: notebook in /usr/local/lib/python3.6/dist-packages (from fastai)\n",
            "Requirement already satisfied: numpy in /usr/local/lib/python3.6/dist-packages (from fastai)\n",
            "Requirement already satisfied: olefile in /usr/local/lib/python3.6/dist-packages (from fastai)\n",
            "Requirement already satisfied: opencv-python in /usr/local/lib/python3.6/dist-packages (from fastai)\n",
            "Requirement already satisfied: pandas in /usr/local/lib/python3.6/dist-packages (from fastai)\n",
            "Collecting pandas_summary (from fastai)\n",
            "  Downloading pandas-summary-0.0.41.tar.gz\n",
            "Requirement already satisfied: pandocfilters in /usr/local/lib/python3.6/dist-packages (from fastai)\n",
            "Requirement already satisfied: pexpect in /usr/local/lib/python3.6/dist-packages (from fastai)\n",
            "Requirement already satisfied: pickleshare in /usr/local/lib/python3.6/dist-packages (from fastai)\n",
            "Collecting plotnine (from fastai)\n",
            "  Downloading plotnine-0.3.0-py2.py3-none-any.whl (3.4MB)\n",
            "\u001b[K    100% |████████████████████████████████| 3.4MB 381kB/s \n",
            "\u001b[?25hRequirement already satisfied: prompt-toolkit in /usr/local/lib/python3.6/dist-packages (from fastai)\n",
            "Requirement already satisfied: ptyprocess in /usr/local/lib/python3.6/dist-packages (from fastai)\n",
            "Requirement already satisfied: pyparsing in /usr/local/lib/python3.6/dist-packages (from fastai)\n",
            "Requirement already satisfied: python-dateutil in /usr/local/lib/python3.6/dist-packages (from fastai)\n",
            "Requirement already satisfied: pytz in /usr/local/lib/python3.6/dist-packages (from fastai)\n",
            "Requirement already satisfied: pyzmq in /usr/local/lib/python3.6/dist-packages (from fastai)\n",
            "Collecting qtconsole (from fastai)\n",
            "  Downloading qtconsole-4.3.1-py2.py3-none-any.whl (108kB)\n",
            "\u001b[K    100% |████████████████████████████████| 112kB 7.2MB/s \n",
            "\u001b[?25hRequirement already satisfied: scipy in /usr/local/lib/python3.6/dist-packages (from fastai)\n",
            "Requirement already satisfied: seaborn in /usr/local/lib/python3.6/dist-packages (from fastai)\n",
            "Requirement already satisfied: simplegeneric in /usr/local/lib/python3.6/dist-packages (from fastai)\n",
            "Requirement already satisfied: six in /usr/local/lib/python3.6/dist-packages (from fastai)\n",
            "Collecting sklearn_pandas (from fastai)\n",
            "  Downloading sklearn_pandas-1.6.0-py2.py3-none-any.whl\n",
            "Requirement already satisfied: terminado in /usr/local/lib/python3.6/dist-packages (from fastai)\n",
            "Requirement already satisfied: testpath in /usr/local/lib/python3.6/dist-packages (from fastai)\n",
            "Collecting torchtext (from fastai)\n",
            "  Downloading torchtext-0.2.1-py3-none-any.whl (41kB)\n",
            "\u001b[K    100% |████████████████████████████████| 51kB 6.1MB/s \n",
            "\u001b[?25hRequirement already satisfied: tornado in /usr/local/lib/python3.6/dist-packages (from fastai)\n",
            "Collecting tqdm (from fastai)\n",
            "  Downloading tqdm-4.19.7-py2.py3-none-any.whl (52kB)\n",
            "\u001b[K    100% |████████████████████████████████| 61kB 4.5MB/s \n",
            "\u001b[?25hRequirement already satisfied: traitlets in /usr/local/lib/python3.6/dist-packages (from fastai)\n",
            "Requirement already satisfied: wcwidth in /usr/local/lib/python3.6/dist-packages (from fastai)\n",
            "Requirement already satisfied: webencodings in /usr/local/lib/python3.6/dist-packages (from fastai)\n",
            "Collecting widgetsnbextension (from fastai)\n",
            "  Downloading widgetsnbextension-3.1.4-py2.py3-none-any.whl (2.2MB)\n",
            "\u001b[K    100% |████████████████████████████████| 2.2MB 578kB/s \n",
            "\u001b[?25hCollecting docutils>=0.10 (from awscli->fastai)\n",
            "  Downloading docutils-0.14-py3-none-any.whl (543kB)\n",
            "\u001b[K    100% |████████████████████████████████| 552kB 1.8MB/s \n",
            "\u001b[?25hRequirement already satisfied: rsa<=3.5.0,>=3.1.2 in /usr/local/lib/python3.6/dist-packages (from awscli->fastai)\n",
            "Collecting botocore==1.9.9 (from awscli->fastai)\n",
            "  Downloading botocore-1.9.9.tar.gz (4.2MB)\n",
            "\u001b[K    99% |████████████████████████████████| 4.2MB 30.7MB/s eta 0:00:01"
          ],
          "name": "stdout"
        },
        {
          "output_type": "stream",
          "text": [
            "\u001b[K    100% |████████████████████████████████| 4.2MB 298kB/s \n",
            "\u001b[?25hCollecting s3transfer<0.2.0,>=0.1.12 (from awscli->fastai)\n",
            "  Downloading s3transfer-0.1.13-py2.py3-none-any.whl (59kB)\n",
            "\u001b[K    100% |████████████████████████████████| 61kB 8.9MB/s \n",
            "\u001b[?25hCollecting colorama<=0.3.7,>=0.2.5 (from awscli->fastai)\n",
            "  Downloading colorama-0.3.7-py2.py3-none-any.whl\n",
            "Collecting pyarrow>=0.4.0 (from feather-format->fastai)\n",
            "  Downloading pyarrow-0.8.0-cp36-cp36m-manylinux1_x86_64.whl (6.9MB)\n",
            "\u001b[K    100% |████████████████████████████████| 6.9MB 178kB/s \n",
            "\u001b[?25hRequirement already satisfied: setuptools>=18.5 in /usr/lib/python3/dist-packages (from ipython->fastai)\n",
            "Collecting parso==0.1.1 (from jedi->fastai)\n",
            "  Downloading parso-0.1.1-py2.py3-none-any.whl (91kB)\n",
            "\u001b[K    100% |████████████████████████████████| 92kB 9.4MB/s \n",
            "\u001b[?25hCollecting jupyter-latex-envs>=1.3.8 (from jupyter_contrib_nbextensions->fastai)\n",
            "  Downloading jupyter_latex_envs-1.4.4.tar.gz (855kB)\n",
            "\u001b[K    100% |████████████████████████████████| 860kB 1.4MB/s \n",
            "\u001b[?25hCollecting lxml (from jupyter_contrib_nbextensions->fastai)\n",
            "  Downloading lxml-4.2.0-cp36-cp36m-manylinux1_x86_64.whl (5.6MB)\n",
            "\u001b[K    100% |████████████████████████████████| 5.7MB 220kB/s \n",
            "\u001b[?25hCollecting jupyter-nbextensions-configurator>=0.4.0 (from jupyter_contrib_nbextensions->fastai)\n",
            "  Downloading jupyter_nbextensions_configurator-0.4.0-py2.py3-none-any.whl (466kB)\n",
            "\u001b[K    100% |████████████████████████████████| 471kB 2.4MB/s \n",
            "\u001b[?25hCollecting jupyter-contrib-core>=0.3.3 (from jupyter_contrib_nbextensions->fastai)\n",
            "  Downloading jupyter_contrib_core-0.3.3-py2.py3-none-any.whl\n",
            "Collecting jupyter-highlight-selected-word>=0.0.10 (from jupyter_contrib_nbextensions->fastai)\n",
            "  Downloading jupyter_highlight_selected_word-0.1.0-py2.py3-none-any.whl\n",
            "Collecting MechanicalSoup<0.9,>=0.7.0 (from kaggle-cli->fastai)\n",
            "  Downloading MechanicalSoup-0.8.0-py2.py3-none-any.whl\n",
            "Requirement already satisfied: beautifulsoup4<4.7,>=4.6.0 in /usr/local/lib/python3.6/dist-packages (from kaggle-cli->fastai)\n",
            "Collecting cliff<2.9,>=2.8.0 (from kaggle-cli->fastai)\n",
            "  Downloading cliff-2.8.0.tar.gz (71kB)\n",
            "\u001b[K    100% |████████████████████████████████| 81kB 7.5MB/s \n",
            "\u001b[?25hCollecting configparser (from kaggle-cli->fastai)\n",
            "  Downloading configparser-3.5.0.tar.gz\n",
            "Collecting cssselect<1.1,>=1.0.1 (from kaggle-cli->fastai)\n",
            "  Downloading cssselect-1.0.3-py2.py3-none-any.whl\n",
            "Collecting progressbar2<3.35,>=3.34.3 (from kaggle-cli->fastai)\n",
            "  Downloading progressbar2-3.34.3-py2.py3-none-any.whl\n",
            "Collecting mizani>=0.4.1 (from plotnine->fastai)\n",
            "  Downloading mizani-0.4.5-py2.py3-none-any.whl (65kB)\n",
            "\u001b[K    100% |████████████████████████████████| 71kB 9.4MB/s \n",
            "\u001b[?25hRequirement already satisfied: patsy>=0.4.1 in /usr/local/lib/python3.6/dist-packages (from plotnine->fastai)\n",
            "Requirement already satisfied: statsmodels>=0.8.0 in /usr/local/lib/python3.6/dist-packages (from plotnine->fastai)\n",
            "Requirement already satisfied: scikit-learn>=0.15.0 in /usr/local/lib/python3.6/dist-packages (from sklearn_pandas->fastai)\n",
            "Requirement already satisfied: requests in /usr/local/lib/python3.6/dist-packages (from torchtext->fastai)\n",
            "Requirement already satisfied: pyasn1>=0.1.3 in /usr/local/lib/python3.6/dist-packages (from rsa<=3.5.0,>=3.1.2->awscli->fastai)\n",
            "Collecting jmespath<1.0.0,>=0.7.1 (from botocore==1.9.9->awscli->fastai)\n",
            "  Downloading jmespath-0.9.3-py2.py3-none-any.whl\n",
            "Collecting PrettyTable<0.8,>=0.7.1 (from cliff<2.9,>=2.8.0->kaggle-cli->fastai)\n",
            "  Downloading prettytable-0.7.2.zip\n",
            "Collecting cmd2>=0.6.7 (from cliff<2.9,>=2.8.0->kaggle-cli->fastai)\n",
            "  Downloading cmd2-0.8.1.tar.gz (89kB)\n",
            "\u001b[K    100% |████████████████████████████████| 92kB 9.3MB/s \n",
            "\u001b[?25hCollecting pbr!=2.1.0,>=2.0.0 (from cliff<2.9,>=2.8.0->kaggle-cli->fastai)\n",
            "  Downloading pbr-3.1.1-py2.py3-none-any.whl (99kB)\n",
            "\u001b[K    100% |████████████████████████████████| 102kB 9.2MB/s \n",
            "\u001b[?25hCollecting stevedore>=1.20.0 (from cliff<2.9,>=2.8.0->kaggle-cli->fastai)\n",
            "  Downloading stevedore-1.28.0-py2.py3-none-any.whl\n",
            "Collecting python-utils>=2.1.0 (from progressbar2<3.35,>=3.34.3->kaggle-cli->fastai)\n"
          ],
          "name": "stdout"
        },
        {
          "output_type": "stream",
          "text": [
            "  Downloading python_utils-2.3.0-py2.py3-none-any.whl\n",
            "Collecting palettable (from mizani>=0.4.1->plotnine->fastai)\n",
            "  Downloading palettable-3.1.0-py2.py3-none-any.whl (78kB)\n",
            "\u001b[K    100% |████████████████████████████████| 81kB 9.5MB/s \n",
            "\u001b[?25hRequirement already satisfied: chardet<3.1.0,>=3.0.2 in /usr/local/lib/python3.6/dist-packages (from requests->torchtext->fastai)\n",
            "Requirement already satisfied: idna<2.7,>=2.5 in /usr/local/lib/python3.6/dist-packages (from requests->torchtext->fastai)\n",
            "Requirement already satisfied: urllib3<1.23,>=1.21.1 in /usr/local/lib/python3.6/dist-packages (from requests->torchtext->fastai)\n",
            "Collecting pyperclip (from cmd2>=0.6.7->cliff<2.9,>=2.8.0->kaggle-cli->fastai)\n",
            "  Downloading pyperclip-1.6.0.tar.gz\n",
            "Building wheels for collected packages: fastai, bcolz, feather-format, kaggle-cli, pandas-summary, botocore, jupyter-latex-envs, cliff, configparser, PrettyTable, cmd2, pyperclip\n",
            "  Running setup.py bdist_wheel for fastai ... \u001b[?25l-\b \b\\\b \bdone\n",
            "\u001b[?25h  Stored in directory: /content/.cache/pip/wheels/13/6b/e1/1f1c38574e6abf3cfd747b345213ed1a4e2bf149646e16408d\n",
            "  Running setup.py bdist_wheel for bcolz ... \u001b[?25l-\b \b\\\b \b|\b \b/\b \b-\b \b\\\b \b|\b \b/\b \b-\b \b\\\b \b|\b \b/\b \b-\b \b\\\b \b|\b \b/\b \b-\b \b\\\b \b|\b \b/\b \b-\b \b\\\b \b|\b \b/\b \b-\b \b\\\b \b|\b \b/\b \b-\b \b\\\b \b|\b \b/\b \b-\b \b\\\b \b|\b \b/\b \b-\b \b\\\b \b|\b \b/\b \b-\b \b\\\b \b|\b \b/\b \b-\b \b\\\b \b|\b \bdone\n",
            "\u001b[?25h  Stored in directory: /content/.cache/pip/wheels/e9/84/eb/f8f3caa627bb01ebc96034c3411f59870951246e5873b3f4c7\n",
            "  Running setup.py bdist_wheel for feather-format ... \u001b[?25l-\b \bdone\n",
            "\u001b[?25h  Stored in directory: /content/.cache/pip/wheels/9d/de/23/0ca11012cc6b573de3f8187727cfa97a8392a8605e331214e5\n",
            "  Running setup.py bdist_wheel for kaggle-cli ... \u001b[?25l-\b \bdone\n",
            "\u001b[?25h  Stored in directory: /content/.cache/pip/wheels/f0/3c/ff/c98870eeb0ca26250ce6a60dc9be23f547b7ef68b3d6a1c0b5\n",
            "  Running setup.py bdist_wheel for pandas-summary ... \u001b[?25l-\b \bdone\n",
            "\u001b[?25h  Stored in directory: /content/.cache/pip/wheels/20/29/c9/b3d9f2cbdb6f1eeeb98e263ae687d72e8138a26de91058bd0b\n",
            "  Running setup.py bdist_wheel for botocore ... \u001b[?25l-\b \b\\\b \b|\b \b/\b \b-\b \b\\\b \b|\b \b/\b \b-\b \b\\"
          ],
          "name": "stdout"
        },
        {
          "output_type": "stream",
          "text": [
            "\b \b|\b \b/\b \bdone\n",
            "\u001b[?25h  Stored in directory: /content/.cache/pip/wheels/30/a4/e9/d28c028565b417230ee1442b4b44f681ad9ff96ada671b7dd8\n",
            "  Running setup.py bdist_wheel for jupyter-latex-envs ... \u001b[?25l-\b \b\\\b \bdone\n",
            "\u001b[?25h  Stored in directory: /content/.cache/pip/wheels/8d/1a/c8/3a9f5e0105eb88e1972cd06fcca65d8b904dafe67afacc566b\n",
            "  Running setup.py bdist_wheel for cliff ... \u001b[?25l-\b \bdone\n",
            "\u001b[?25h  Stored in directory: /content/.cache/pip/wheels/27/4c/aa/0f67aa384e67aacc5629321b1a3f85892362d4e9e5cd3a20f1\n",
            "  Running setup.py bdist_wheel for configparser ... \u001b[?25l-\b \bdone\n",
            "\u001b[?25h  Stored in directory: /content/.cache/pip/wheels/1c/bd/b4/277af3f6c40645661b4cd1c21df26aca0f2e1e9714a1d4cda8\n",
            "  Running setup.py bdist_wheel for PrettyTable ... \u001b[?25l-\b \bdone\n",
            "\u001b[?25h  Stored in directory: /content/.cache/pip/wheels/b6/90/7b/1c22b89217d0eba6d5f406e562365ebee804f0d4595b2bdbcd\n",
            "  Running setup.py bdist_wheel for cmd2 ... \u001b[?25l-\b \bdone\n",
            "\u001b[?25h  Stored in directory: /content/.cache/pip/wheels/c2/72/23/369d3079bb5c0abe681a237b862aac1f75035876fa156edfd7\n",
            "  Running setup.py bdist_wheel for pyperclip ... \u001b[?25l-\b \bdone\n",
            "\u001b[?25h  Stored in directory: /content/.cache/pip/wheels/a9/22/c3/8116911c3273f6aa0a90ce69c44fb8a6a0e139d79aeda5a73e\n",
            "Successfully built fastai bcolz feather-format kaggle-cli pandas-summary botocore jupyter-latex-envs cliff configparser PrettyTable cmd2 pyperclip\n",
            "Installing collected packages: docutils, jmespath, botocore, s3transfer, colorama, awscli, bcolz, pyarrow, feather-format, graphviz, widgetsnbextension, ipywidgets, isoweek, parso, jedi, jupyter-console, qtconsole, jupyter, jupyter-latex-envs, lxml, jupyter-contrib-core, jupyter-nbextensions-configurator, jupyter-highlight-selected-word, jupyter-contrib-nbextensions, MechanicalSoup, PrettyTable, pyperclip, cmd2, pbr, stevedore, cliff, configparser, cssselect, python-utils, progressbar2, kaggle-cli, pandas-summary, palettable, mizani, plotnine, sklearn-pandas, tqdm, torchtext, fastai\n",
            "Successfully installed MechanicalSoup-0.8.0 PrettyTable-0.7.2 awscli-1.14.56 bcolz-1.1.2 botocore-1.9.9 cliff-2.8.0 cmd2-0.8.1 colorama-0.3.7 configparser-3.5.0 cssselect-1.0.3 docutils-0.14 fastai-0.6 feather-format-0.4.0 graphviz-0.8.2 ipywidgets-7.1.2 isoweek-1.3.3 jedi-0.11.1 jmespath-0.9.3 jupyter-1.0.0 jupyter-console-5.2.0 jupyter-contrib-core-0.3.3 jupyter-contrib-nbextensions-0.4.0 jupyter-highlight-selected-word-0.1.0 jupyter-latex-envs-1.4.4 jupyter-nbextensions-configurator-0.4.0 kaggle-cli-0.12.13 lxml-4.2.0 mizani-0.4.5 palettable-3.1.0 pandas-summary-0.0.41 parso-0.1.1 pbr-3.1.1 plotnine-0.3.0 progressbar2-3.34.3 pyarrow-0.8.0 pyperclip-1.6.0 python-utils-2.3.0 qtconsole-4.3.1 s3transfer-0.1.13 sklearn-pandas-1.6.0 stevedore-1.28.0 torchtext-0.2.1 tqdm-4.19.7 widgetsnbextension-3.1.4\n"
          ],
          "name": "stdout"
        }
      ]
    },
    {
      "cell_type": "code",
      "metadata": {
        "id": "QdcT_PRQGzpJ",
        "colab_type": "code",
        "colab": {
          "base_uri": "https://localhost:8080/",
          "height": 34
        },
        "outputId": "d141e870-ec40-42b6-f758-6773f67a4d57"
      },
      "source": [
        "cd /usr/local/lib/python3.6/dist-packages/fastai"
      ],
      "execution_count": null,
      "outputs": [
        {
          "output_type": "stream",
          "text": [
            "/usr/local/lib/python3.6/dist-packages/fastai\n"
          ],
          "name": "stdout"
        }
      ]
    },
    {
      "cell_type": "code",
      "metadata": {
        "id": "f2VkTe_2Gzvo",
        "colab_type": "code",
        "colab": {
          "base_uri": "https://localhost:8080/",
          "height": 204
        },
        "outputId": "d81b45e6-0070-4e42-b1e3-3a03296c801d"
      },
      "source": [
        "!wget http://files.fast.ai/models/weights.tgz"
      ],
      "execution_count": null,
      "outputs": [
        {
          "output_type": "stream",
          "text": [
            "--2018-03-15 07:49:25--  http://files.fast.ai/models/weights.tgz\n",
            "Resolving files.fast.ai (files.fast.ai)... 67.205.15.147\n",
            "Connecting to files.fast.ai (files.fast.ai)|67.205.15.147|:80... connected.\n",
            "HTTP request sent, awaiting response... 200 OK\n",
            "Length: 1195411318 (1.1G) [text/plain]\n",
            "Saving to: ‘weights.tgz’\n",
            "\n",
            "weights.tgz         100%[===================>]   1.11G  35.9MB/s    in 48s     \n",
            "\n",
            "2018-03-15 07:50:14 (23.5 MB/s) - ‘weights.tgz’ saved [1195411318/1195411318]\n",
            "\n"
          ],
          "name": "stdout"
        }
      ]
    },
    {
      "cell_type": "code",
      "metadata": {
        "id": "1xbPc8W-Gz3X",
        "colab_type": "code",
        "colab": {
          "base_uri": "https://localhost:8080/",
          "height": 136
        },
        "outputId": "227e52b0-0528-4731-c743-ddfdca7f48e5"
      },
      "source": [
        "!tar -xvzf weights.tgz"
      ],
      "execution_count": null,
      "outputs": [
        {
          "output_type": "stream",
          "text": [
            "weights/\r\n",
            "weights/wrn_50_2f.pth\n",
            "weights/resnext_101_32x4d.pth\n",
            "weights/resnext_101_64x4d.pth\n",
            "weights/inceptionresnetv2-d579a627.pth\n",
            "weights/inceptionv4-97ef9c30.pth\n",
            "weights/resnext_50_32x4d.pth\n"
          ],
          "name": "stdout"
        }
      ]
    },
    {
      "cell_type": "code",
      "metadata": {
        "id": "4ANBRPyvG6BA",
        "colab_type": "code",
        "colab": {
          "base_uri": "https://localhost:8080/",
          "height": 34
        },
        "outputId": "7d653a26-1122-4637-be28-80125f85a00c"
      },
      "source": [
        "cd"
      ],
      "execution_count": null,
      "outputs": [
        {
          "output_type": "stream",
          "text": [
            "/content\n"
          ],
          "name": "stdout"
        }
      ]
    },
    {
      "cell_type": "code",
      "metadata": {
        "id": "ZQieba-bFIrR",
        "colab_type": "code",
        "colab": {}
      },
      "source": [
        "# Put these at the top of every notebook, to get automatic reloading and inline plotting\n",
        "%reload_ext autoreload\n",
        "%autoreload 2\n",
        "%matplotlib inline"
      ],
      "execution_count": null,
      "outputs": []
    },
    {
      "cell_type": "code",
      "metadata": {
        "id": "J-Hjkz4zFIrW",
        "colab_type": "code",
        "colab": {}
      },
      "source": [
        "# This file contains all the main external libs we'll use\n",
        "from fastai.imports import *"
      ],
      "execution_count": null,
      "outputs": []
    },
    {
      "cell_type": "code",
      "metadata": {
        "id": "ainIDJOfFIra",
        "colab_type": "code",
        "colab": {}
      },
      "source": [
        "from fastai.transforms import *\n",
        "from fastai.conv_learner import *\n",
        "from fastai.model import *\n",
        "from fastai.dataset import *\n",
        "from fastai.sgdr import *\n",
        "from fastai.plots import *"
      ],
      "execution_count": null,
      "outputs": []
    },
    {
      "cell_type": "code",
      "metadata": {
        "id": "d6ILcVxED4JU",
        "colab_type": "code",
        "colab": {}
      },
      "source": [
        "import pandas as pd"
      ],
      "execution_count": null,
      "outputs": []
    },
    {
      "cell_type": "code",
      "metadata": {
        "id": "BzuN3Um4FIre",
        "colab_type": "code",
        "colab": {}
      },
      "source": [
        "PATH = \"\""
      ],
      "execution_count": null,
      "outputs": []
    },
    {
      "cell_type": "code",
      "metadata": {
        "id": "_BdtnlrXNafE",
        "colab_type": "code",
        "colab": {}
      },
      "source": [
        "mv train/**/*.png train"
      ],
      "execution_count": null,
      "outputs": []
    },
    {
      "cell_type": "code",
      "metadata": {
        "id": "nyVnW06IPUh7",
        "colab_type": "code",
        "colab": {}
      },
      "source": [
        "rm -r train/**/"
      ],
      "execution_count": null,
      "outputs": []
    },
    {
      "cell_type": "code",
      "metadata": {
        "id": "Fm9dsxRlpozR",
        "colab_type": "code",
        "colab": {}
      },
      "source": [
        "from sklearn.model_selection import train_test_split\n",
        "from sklearn.model_selection import cross_val_score\n",
        "from sklearn.metrics import accuracy_score"
      ],
      "execution_count": null,
      "outputs": []
    },
    {
      "cell_type": "code",
      "metadata": {
        "id": "f6CsJc6bqLSn",
        "colab_type": "code",
        "colab": {
          "base_uri": "https://localhost:8080/",
          "height": 34
        },
        "outputId": "4abea06b-e10c-4480-b181-8313254ae001"
      },
      "source": [
        "import numpy as np\n",
        "from keras.preprocessing.image import ImageDataGenerator\n",
        "from keras.preprocessing import image\n",
        "from keras.layers import Dropout, Flatten, Dense\n",
        "from keras.applications import ResNet50\n",
        "from keras.models import Model, Sequential\n",
        "from keras.layers import Dense, GlobalAveragePooling2D\n",
        "from keras import backend as K\n",
        "from keras.applications.resnet50 import preprocess_input"
      ],
      "execution_count": null,
      "outputs": [
        {
          "output_type": "stream",
          "text": [
            "Using TensorFlow backend.\n"
          ],
          "name": "stderr"
        }
      ]
    },
    {
      "cell_type": "code",
      "metadata": {
        "id": "qiIxZd6InmRk",
        "colab_type": "code",
        "colab": {}
      },
      "source": [
        "!pip install -q keras\n",
        "import keras"
      ],
      "execution_count": null,
      "outputs": []
    },
    {
      "cell_type": "code",
      "metadata": {
        "id": "EB7AThT9nnrJ",
        "colab_type": "code",
        "colab": {}
      },
      "source": [
        "import keras\n",
        "from keras.models import Sequential\n",
        "from keras.layers import Dense\n",
        "cl=Sequential()\n",
        "cl.add(Dense(output_dim=3,init='uniform',activation='relu',input_dim=12))\n",
        "cl.add(Dense(output_dim=3,init='uniform',activation='relu'))\n",
        "cl.add(Dense(output_dim=1,init='uniform',activation='sigmoid'))\n",
        "cl.compile(optimizer='adam',loss='binary_crossentropy',metrics=['accuracy'])\n",
        "cl.fit(batch_size=10,nb_epoch=100)\n"
      ],
      "execution_count": null,
      "outputs": []
    },
    {
      "cell_type": "markdown",
      "metadata": {
        "id": "-DDCKuUdFIrp",
        "colab_type": "text"
      },
      "source": [
        "## Our first model: quick start"
      ]
    },
    {
      "cell_type": "code",
      "metadata": {
        "id": "zWYBObfbFIrs",
        "colab_type": "code",
        "colab": {}
      },
      "source": [
        "# Uncomment the below if you need to reset your precomputed activations\n",
        "!rm -rf {PATH}tmp"
      ],
      "execution_count": null,
      "outputs": []
    },
    {
      "cell_type": "code",
      "metadata": {
        "id": "x39CuDdSFIrw",
        "colab_type": "code",
        "colab": {}
      },
      "source": [
        "sz = 300\n",
        "arch = resnet50 "
      ],
      "execution_count": null,
      "outputs": []
    },
    {
      "cell_type": "code",
      "metadata": {
        "id": "iPO7xfKhFIsC",
        "colab_type": "code",
        "colab": {
          "base_uri": "https://localhost:8080/",
          "height": 102
        },
        "outputId": "75e0fd6f-06dc-4102-ef1f-d13ae94696bf"
      },
      "source": [
        "tfms = tfms_from_model(arch, sz, aug_tfms=transforms_top_down, max_zoom=1.1)\n",
        "data = ImageClassifierData.from_csv(PATH, folder='train', csv_fname=f'{PATH}labels.csv', tfms=tfms, val_idxs=get_cv_idxs(n=1000), test_name='test', bs=64)\n",
        "learn = ConvLearner.pretrained(arch, data, precompute=True)\n"
      ],
      "execution_count": null,
      "outputs": [
        {
          "output_type": "stream",
          "text": [
            "Downloading: \"https://download.pytorch.org/models/resnet50-19c8e357.pth\" to /content/.torch/models/resnet50-19c8e357.pth\n",
            "100%|██████████| 102502400/102502400 [00:03<00:00, 32248555.29it/s]\n"
          ],
          "name": "stderr"
        },
        {
          "output_type": "stream",
          "text": [
            "100%|██████████| 72/72 [01:28<00:00,  1.23s/it]\n",
            "100%|██████████| 4/4 [00:04<00:00,  1.19s/it]\n",
            "100%|██████████| 13/13 [00:14<00:00,  1.12s/it]\n"
          ],
          "name": "stdout"
        }
      ]
    },
    {
      "cell_type": "code",
      "metadata": {
        "id": "wD-pN8zMSVWu",
        "colab_type": "code",
        "colab": {
          "base_uri": "https://localhost:8080/",
          "height": 177,
          "referenced_widgets": [
            "1ed09a36253e4160929d49cbccc082ce"
          ]
        },
        "outputId": "9e94b6d7-c4fc-4a20-bdb0-00d5596d2845"
      },
      "source": [
        "learn.fit(1e-2, 3)"
      ],
      "execution_count": null,
      "outputs": [
        {
          "output_type": "display_data",
          "data": {
            "application/vnd.jupyter.widget-view+json": {
              "model_id": "1ed09a36253e4160929d49cbccc082ce",
              "version_minor": 0,
              "version_major": 2
            },
            "text/html": [
              "<p>Failed to display Jupyter Widget of type <code>HBox</code>.</p>\n",
              "<p>\n",
              "  If you're reading this message in the Jupyter Notebook or JupyterLab Notebook, it may mean\n",
              "  that the widgets JavaScript is still loading. If this message persists, it\n",
              "  likely means that the widgets JavaScript library is either not installed or\n",
              "  not enabled. See the <a href=\"https://ipywidgets.readthedocs.io/en/stable/user_install.html\">Jupyter\n",
              "  Widgets Documentation</a> for setup instructions.\n",
              "</p>\n",
              "<p>\n",
              "  If you're reading this message in another frontend (for example, a static\n",
              "  rendering on GitHub or <a href=\"https://nbviewer.jupyter.org/\">NBViewer</a>),\n",
              "  it may mean that your frontend doesn't currently support widgets.\n",
              "</p>\n"
            ],
            "text/plain": [
              "HBox(children=(IntProgress(value=0, description='Epoch', max=3), HTML(value='')))"
            ]
          },
          "metadata": {
            "tags": []
          }
        },
        {
          "output_type": "stream",
          "text": [
            "[0.      1.07398 0.52772 0.83984]\n",
            "[1.      0.67995 0.4276  0.875  ]\n",
            "[2.      0.50787 0.53481 0.88281]\n",
            "\n"
          ],
          "name": "stdout"
        }
      ]
    },
    {
      "cell_type": "code",
      "metadata": {
        "id": "OKry1qiHsN1K",
        "colab_type": "code",
        "colab": {
          "base_uri": "https://localhost:8080/",
          "height": 160,
          "referenced_widgets": [
            "11302e0a65af40b8917002a159e0033a"
          ]
        },
        "outputId": "bcfcf5b3-9411-4ef3-ad99-c5dbbb16291f"
      },
      "source": [
        "learn.fit(5e-3, 2)"
      ],
      "execution_count": null,
      "outputs": [
        {
          "output_type": "display_data",
          "data": {
            "application/vnd.jupyter.widget-view+json": {
              "model_id": "11302e0a65af40b8917002a159e0033a",
              "version_minor": 0,
              "version_major": 2
            },
            "text/html": [
              "<p>Failed to display Jupyter Widget of type <code>HBox</code>.</p>\n",
              "<p>\n",
              "  If you're reading this message in the Jupyter Notebook or JupyterLab Notebook, it may mean\n",
              "  that the widgets JavaScript is still loading. If this message persists, it\n",
              "  likely means that the widgets JavaScript library is either not installed or\n",
              "  not enabled. See the <a href=\"https://ipywidgets.readthedocs.io/en/stable/user_install.html\">Jupyter\n",
              "  Widgets Documentation</a> for setup instructions.\n",
              "</p>\n",
              "<p>\n",
              "  If you're reading this message in another frontend (for example, a static\n",
              "  rendering on GitHub or <a href=\"https://nbviewer.jupyter.org/\">NBViewer</a>),\n",
              "  it may mean that your frontend doesn't currently support widgets.\n",
              "</p>\n"
            ],
            "text/plain": [
              "HBox(children=(IntProgress(value=0, description='Epoch', max=2), HTML(value='')))"
            ]
          },
          "metadata": {
            "tags": []
          }
        },
        {
          "output_type": "stream",
          "text": [
            "[0.      0.38137 0.27268 0.92188]\n",
            "[1.      0.35724 0.28201 0.91406]\n",
            "\n"
          ],
          "name": "stdout"
        }
      ]
    },
    {
      "cell_type": "code",
      "metadata": {
        "id": "s2OfZJbEsQm8",
        "colab_type": "code",
        "colab": {
          "base_uri": "https://localhost:8080/",
          "height": 160,
          "referenced_widgets": [
            "afeb4f7cff50416c8ea0057eb62827db"
          ]
        },
        "outputId": "bc2ac123-5160-436b-c769-eab2c4bc5ca7"
      },
      "source": [
        "learn.fit(5e-4, 2)"
      ],
      "execution_count": null,
      "outputs": [
        {
          "output_type": "display_data",
          "data": {
            "application/vnd.jupyter.widget-view+json": {
              "model_id": "afeb4f7cff50416c8ea0057eb62827db",
              "version_minor": 0,
              "version_major": 2
            },
            "text/html": [
              "<p>Failed to display Jupyter Widget of type <code>HBox</code>.</p>\n",
              "<p>\n",
              "  If you're reading this message in the Jupyter Notebook or JupyterLab Notebook, it may mean\n",
              "  that the widgets JavaScript is still loading. If this message persists, it\n",
              "  likely means that the widgets JavaScript library is either not installed or\n",
              "  not enabled. See the <a href=\"https://ipywidgets.readthedocs.io/en/stable/user_install.html\">Jupyter\n",
              "  Widgets Documentation</a> for setup instructions.\n",
              "</p>\n",
              "<p>\n",
              "  If you're reading this message in another frontend (for example, a static\n",
              "  rendering on GitHub or <a href=\"https://nbviewer.jupyter.org/\">NBViewer</a>),\n",
              "  it may mean that your frontend doesn't currently support widgets.\n",
              "</p>\n"
            ],
            "text/plain": [
              "HBox(children=(IntProgress(value=0, description='Epoch', max=2), HTML(value='')))"
            ]
          },
          "metadata": {
            "tags": []
          }
        },
        {
          "output_type": "stream",
          "text": [
            "[0.      0.31108 0.28651 0.91016]\n",
            "[1.      0.2929  0.56895 0.88281]\n",
            "\n"
          ],
          "name": "stdout"
        }
      ]
    },
    {
      "cell_type": "code",
      "metadata": {
        "id": "d7dkKJM6sX_b",
        "colab_type": "code",
        "colab": {}
      },
      "source": [
        "learn.precompute=False"
      ],
      "execution_count": null,
      "outputs": []
    },
    {
      "cell_type": "code",
      "metadata": {
        "id": "xLGA_w7YseVw",
        "colab_type": "code",
        "colab": {
          "base_uri": "https://localhost:8080/",
          "height": 262,
          "referenced_widgets": [
            "690372805dbc42caa802889334b7fd8c"
          ]
        },
        "outputId": "16c1788f-f583-4c33-c780-34ba7277436b"
      },
      "source": [
        "learn.fit(1e-2, 2, cycle_len=2, cycle_mult=3)"
      ],
      "execution_count": null,
      "outputs": [
        {
          "output_type": "display_data",
          "data": {
            "application/vnd.jupyter.widget-view+json": {
              "model_id": "690372805dbc42caa802889334b7fd8c",
              "version_minor": 0,
              "version_major": 2
            },
            "text/html": [
              "<p>Failed to display Jupyter Widget of type <code>HBox</code>.</p>\n",
              "<p>\n",
              "  If you're reading this message in the Jupyter Notebook or JupyterLab Notebook, it may mean\n",
              "  that the widgets JavaScript is still loading. If this message persists, it\n",
              "  likely means that the widgets JavaScript library is either not installed or\n",
              "  not enabled. See the <a href=\"https://ipywidgets.readthedocs.io/en/stable/user_install.html\">Jupyter\n",
              "  Widgets Documentation</a> for setup instructions.\n",
              "</p>\n",
              "<p>\n",
              "  If you're reading this message in another frontend (for example, a static\n",
              "  rendering on GitHub or <a href=\"https://nbviewer.jupyter.org/\">NBViewer</a>),\n",
              "  it may mean that your frontend doesn't currently support widgets.\n",
              "</p>\n"
            ],
            "text/plain": [
              "HBox(children=(IntProgress(value=0, description='Epoch', max=8), HTML(value='')))"
            ]
          },
          "metadata": {
            "tags": []
          }
        },
        {
          "output_type": "stream",
          "text": [
            "[0.      0.46659 0.25125 0.91797]\n",
            "[1.      0.43552 0.24045 0.91406]\n",
            "[2.      0.47212 0.23741 0.92188]\n",
            "[3.      0.45015 0.25538 0.92188]\n",
            "[4.      0.40984 0.23775 0.9375 ]\n",
            " 21%|██        | 15/72 [00:25<01:37,  1.71s/it, loss=0.4]"
          ],
          "name": "stdout"
        },
        {
          "output_type": "stream",
          "text": [
            "[5.      0.3874  0.21167 0.9375 ]\n",
            "[6.      0.35792 0.21733 0.9375 ]\n",
            "[7.      0.3489  0.21255 0.94531]\n",
            "\n"
          ],
          "name": "stdout"
        }
      ]
    },
    {
      "cell_type": "code",
      "metadata": {
        "id": "VO_VbUkKslVR",
        "colab_type": "code",
        "colab": {}
      },
      "source": [
        "learn.unfreeze()"
      ],
      "execution_count": null,
      "outputs": []
    },
    {
      "cell_type": "code",
      "metadata": {
        "id": "s5RRon-csrse",
        "colab_type": "code",
        "colab": {}
      },
      "source": [
        "lr = 3e-2"
      ],
      "execution_count": null,
      "outputs": []
    },
    {
      "cell_type": "code",
      "metadata": {
        "id": "4ozYLin2su36",
        "colab_type": "code",
        "colab": {}
      },
      "source": [
        "lr=np.array([lr/18,lr/6,lr/2])"
      ],
      "execution_count": null,
      "outputs": []
    },
    {
      "cell_type": "code",
      "metadata": {
        "id": "AZblnUEMsvE5",
        "colab_type": "code",
        "colab": {
          "base_uri": "https://localhost:8080/",
          "height": 211,
          "referenced_widgets": [
            "a7c9895e0ff74f6f9b30ba74dfd36eef"
          ]
        },
        "outputId": "f52744ba-71af-4fb2-a644-dcaf463c3854"
      },
      "source": [
        "learn.fit(lr, 3, cycle_len=2, cycle_mult=3)\n"
      ],
      "execution_count": null,
      "outputs": [
        {
          "output_type": "display_data",
          "data": {
            "application/vnd.jupyter.widget-view+json": {
              "model_id": "a7c9895e0ff74f6f9b30ba74dfd36eef",
              "version_minor": 0,
              "version_major": 2
            },
            "text/html": [
              "<p>Failed to display Jupyter Widget of type <code>HBox</code>.</p>\n",
              "<p>\n",
              "  If you're reading this message in the Jupyter Notebook or JupyterLab Notebook, it may mean\n",
              "  that the widgets JavaScript is still loading. If this message persists, it\n",
              "  likely means that the widgets JavaScript library is either not installed or\n",
              "  not enabled. See the <a href=\"https://ipywidgets.readthedocs.io/en/stable/user_install.html\">Jupyter\n",
              "  Widgets Documentation</a> for setup instructions.\n",
              "</p>\n",
              "<p>\n",
              "  If you're reading this message in another frontend (for example, a static\n",
              "  rendering on GitHub or <a href=\"https://nbviewer.jupyter.org/\">NBViewer</a>),\n",
              "  it may mean that your frontend doesn't currently support widgets.\n",
              "</p>\n"
            ],
            "text/plain": [
              "HBox(children=(IntProgress(value=0, description='Epoch', max=26), HTML(value='')))"
            ]
          },
          "metadata": {
            "tags": []
          }
        },
        {
          "output_type": "stream",
          "text": [
            "[0.      0.43955 0.13943 0.96094]\n",
            "[1.      0.25162 0.1042  0.98047]\n",
            "[2.      0.19303 0.12331 0.96094]\n",
            "[3.      0.16865 0.11491 0.97266]\n",
            "[4.      0.18427 0.08313 0.96094]\n",
            " 21%|██        | 15/72 [00:51<03:14,  3.41s/it, loss=0.161]"
          ],
          "name": "stdout"
        },
        {
          "output_type": "stream",
          "text": [
            " 25%|██▌       | 18/72 [01:00<03:01,  3.37s/it, loss=0.159]"
          ],
          "name": "stdout"
        }
      ]
    },
    {
      "cell_type": "code",
      "metadata": {
        "id": "YOzLA3cGsvRv",
        "colab_type": "code",
        "colab": {
          "base_uri": "https://localhost:8080/",
          "height": 181
        },
        "outputId": "427044b2-f7c7-42d5-e1d0-53daed68aa8e"
      },
      "source": [
        "log_preds,y = learn.TTA()\n",
        "accuracy(log_preds,y)"
      ],
      "execution_count": null,
      "outputs": [
        {
          "output_type": "error",
          "ename": "NameError",
          "evalue": "ignored",
          "traceback": [
            "\u001b[0;31m---------------------------------------------------------------------------\u001b[0m",
            "\u001b[0;31mNameError\u001b[0m                                 Traceback (most recent call last)",
            "\u001b[0;32m<ipython-input-2-826ab674d3ed>\u001b[0m in \u001b[0;36m<module>\u001b[0;34m()\u001b[0m\n\u001b[0;32m----> 1\u001b[0;31m \u001b[0mlog_preds\u001b[0m\u001b[0;34m,\u001b[0m\u001b[0my\u001b[0m \u001b[0;34m=\u001b[0m \u001b[0mlearn\u001b[0m\u001b[0;34m.\u001b[0m\u001b[0mTTA\u001b[0m\u001b[0;34m(\u001b[0m\u001b[0;34m)\u001b[0m\u001b[0;34m\u001b[0m\u001b[0m\n\u001b[0m\u001b[1;32m      2\u001b[0m \u001b[0maccuracy\u001b[0m\u001b[0;34m(\u001b[0m\u001b[0mlog_preds\u001b[0m\u001b[0;34m,\u001b[0m\u001b[0my\u001b[0m\u001b[0;34m)\u001b[0m\u001b[0;34m\u001b[0m\u001b[0m\n",
            "\u001b[0;31mNameError\u001b[0m: name 'learn' is not defined"
          ]
        }
      ]
    },
    {
      "cell_type": "code",
      "metadata": {
        "id": "3TSAK_J5s5La",
        "colab_type": "code",
        "colab": {}
      },
      "source": [
        "log_preds_test = learn.predict(is_test=True)\n",
        "log_preds_test.shape"
      ],
      "execution_count": null,
      "outputs": []
    },
    {
      "cell_type": "code",
      "metadata": {
        "id": "D8UP3R2Is5a9",
        "colab_type": "code",
        "colab": {}
      },
      "source": [
        "log_preds_test = np.argmax(log_preds_test, axis=1)\n",
        "preds_classes = [data.classes[i].replace(\"_\", \" \") for i in log_preds_test]\n",
        "probs = np.exp(log_preds_test)"
      ],
      "execution_count": null,
      "outputs": []
    },
    {
      "cell_type": "code",
      "metadata": {
        "id": "BSibgC-rs6xa",
        "colab_type": "code",
        "colab": {}
      },
      "source": [
        "submission = pd.DataFrame({'file': os.listdir(f'{PATH}test'), 'species': preds_classes})\n",
        "submission.to_csv('plantsubmission.csv', index=False)"
      ],
      "execution_count": null,
      "outputs": []
    },
    {
      "cell_type": "code",
      "metadata": {
        "id": "uO5oK9jjs656",
        "colab_type": "code",
        "colab": {}
      },
      "source": [
        "submission.head(20)"
      ],
      "execution_count": null,
      "outputs": []
    },
    {
      "cell_type": "markdown",
      "metadata": {
        "id": "tApqOzpMFIsA",
        "colab_type": "text"
      },
      "source": [
        "## Choosing a learning rate\n",
        "\n"
      ]
    },
    {
      "cell_type": "code",
      "metadata": {
        "id": "blaxiLNXsj_G",
        "colab_type": "code",
        "colab": {}
      },
      "source": [
        ""
      ],
      "execution_count": null,
      "outputs": []
    },
    {
      "cell_type": "code",
      "metadata": {
        "id": "7hIZtKUtscTu",
        "colab_type": "code",
        "colab": {}
      },
      "source": [
        ""
      ],
      "execution_count": null,
      "outputs": []
    },
    {
      "cell_type": "code",
      "metadata": {
        "id": "KiIZzcNEh3vb",
        "colab_type": "code",
        "colab": {}
      },
      "source": [
        "def change_fc_data(learn, train_index, val_index):\n",
        "  tmpl = f'_{learn.models.name}_{learn.data_.sz}.bc'\n",
        "  names = [os.path.join(learn.tmp_path, p+tmpl) for p in ('x_act', 'x_act_val', 'x_act_test')]\n",
        "  learn.get_activations()\n",
        "  act, val_act, test_act = [bcolz.open(p) for p in names]\n",
        "  data_x = np.vstack([val_act, act])\n",
        "  data_y = np.array(list(learn.data.val_y) + list(learn.data.trn_y))\n",
        "  train_x = data_x[train_index] \n",
        "  valid_x = data_x[val_index]\n",
        "  train_y = data_y[train_index] \n",
        "  valid_y = data_y[val_index]\n",
        "  learn.fc_data = ImageClassifierData.from_arrays(learn.data_.path,\n",
        "               (train_x, train_y), \n",
        "               (valid_x, valid_y), learn.data_.bs, classes=learn.data_.classes,\n",
        "               test = test_act if learn.data_.test_dl else None, num_workers=8)\n",
        "  return learn"
      ],
      "execution_count": null,
      "outputs": []
    },
    {
      "cell_type": "code",
      "metadata": {
        "id": "vscDnnCNic4B",
        "colab_type": "code",
        "colab": {
          "base_uri": "https://localhost:8080/",
          "height": 215
        },
        "outputId": "fdc1595f-84b3-4f76-e73d-bd0b0abe8676"
      },
      "source": [
        "ind = labels\n",
        "skf = StratifiedKFold(n_splits=5, shuffle=True, random_state=1)\n",
        "for train_index, val_index in skf.split(ind.index, ind['species']):\n",
        "  data = ImageClassifierData.from_csv(PATH, folder='traiin', csv_fname=f'{PATH}labels.csv', tfms=tfms, val_idxs=[0], test_name='test', bs=32)\n",
        "  learn = ConvLearner.pretrained(model, data, precompute=True)\n",
        "  learn = change_fc_data(learn, train_index, val_index)"
      ],
      "execution_count": null,
      "outputs": [
        {
          "output_type": "error",
          "ename": "NameError",
          "evalue": "ignored",
          "traceback": [
            "\u001b[0;31m---------------------------------------------------------------------------\u001b[0m",
            "\u001b[0;31mNameError\u001b[0m                                 Traceback (most recent call last)",
            "\u001b[0;32m<ipython-input-54-c3151042c101>\u001b[0m in \u001b[0;36m<module>\u001b[0;34m()\u001b[0m\n\u001b[1;32m      3\u001b[0m \u001b[0;32mfor\u001b[0m \u001b[0mtrain_index\u001b[0m\u001b[0;34m,\u001b[0m \u001b[0mval_index\u001b[0m \u001b[0;32min\u001b[0m \u001b[0mskf\u001b[0m\u001b[0;34m.\u001b[0m\u001b[0msplit\u001b[0m\u001b[0;34m(\u001b[0m\u001b[0mind\u001b[0m\u001b[0;34m.\u001b[0m\u001b[0mindex\u001b[0m\u001b[0;34m,\u001b[0m \u001b[0mind\u001b[0m\u001b[0;34m[\u001b[0m\u001b[0;34m'species'\u001b[0m\u001b[0;34m]\u001b[0m\u001b[0;34m)\u001b[0m\u001b[0;34m:\u001b[0m\u001b[0;34m\u001b[0m\u001b[0m\n\u001b[1;32m      4\u001b[0m   \u001b[0mdata\u001b[0m \u001b[0;34m=\u001b[0m \u001b[0mImageClassifierData\u001b[0m\u001b[0;34m.\u001b[0m\u001b[0mfrom_csv\u001b[0m\u001b[0;34m(\u001b[0m\u001b[0mPATH\u001b[0m\u001b[0;34m,\u001b[0m \u001b[0mfolder\u001b[0m\u001b[0;34m=\u001b[0m\u001b[0;34m'traiin'\u001b[0m\u001b[0;34m,\u001b[0m \u001b[0mcsv_fname\u001b[0m\u001b[0;34m=\u001b[0m\u001b[0;34mf'{PATH}labels.csv'\u001b[0m\u001b[0;34m,\u001b[0m \u001b[0mtfms\u001b[0m\u001b[0;34m=\u001b[0m\u001b[0mtfms\u001b[0m\u001b[0;34m,\u001b[0m \u001b[0mval_idxs\u001b[0m\u001b[0;34m=\u001b[0m\u001b[0;34m[\u001b[0m\u001b[0;36m0\u001b[0m\u001b[0;34m]\u001b[0m\u001b[0;34m,\u001b[0m \u001b[0mtest_name\u001b[0m\u001b[0;34m=\u001b[0m\u001b[0;34m'test'\u001b[0m\u001b[0;34m,\u001b[0m \u001b[0mbs\u001b[0m\u001b[0;34m=\u001b[0m\u001b[0;36m32\u001b[0m\u001b[0;34m)\u001b[0m\u001b[0;34m\u001b[0m\u001b[0m\n\u001b[0;32m----> 5\u001b[0;31m   \u001b[0mlearn\u001b[0m \u001b[0;34m=\u001b[0m \u001b[0mConvLearner\u001b[0m\u001b[0;34m.\u001b[0m\u001b[0mpretrained\u001b[0m\u001b[0;34m(\u001b[0m\u001b[0mmodel\u001b[0m\u001b[0;34m,\u001b[0m \u001b[0mdata\u001b[0m\u001b[0;34m,\u001b[0m \u001b[0mprecompute\u001b[0m\u001b[0;34m=\u001b[0m\u001b[0;32mTrue\u001b[0m\u001b[0;34m)\u001b[0m\u001b[0;34m\u001b[0m\u001b[0m\n\u001b[0m\u001b[1;32m      6\u001b[0m   \u001b[0mlearn\u001b[0m \u001b[0;34m=\u001b[0m \u001b[0mchange_fc_data\u001b[0m\u001b[0;34m(\u001b[0m\u001b[0mlearn\u001b[0m\u001b[0;34m,\u001b[0m \u001b[0mtrain_index\u001b[0m\u001b[0;34m,\u001b[0m \u001b[0mval_index\u001b[0m\u001b[0;34m)\u001b[0m\u001b[0;34m\u001b[0m\u001b[0m\n",
            "\u001b[0;31mNameError\u001b[0m: name 'model' is not defined"
          ]
        }
      ]
    },
    {
      "cell_type": "code",
      "metadata": {
        "id": "Ec3m_V4FiEY9",
        "colab_type": "code",
        "colab": {}
      },
      "source": [
        ""
      ],
      "execution_count": null,
      "outputs": []
    },
    {
      "cell_type": "code",
      "metadata": {
        "id": "BDGc1enWFIsL",
        "colab_type": "code",
        "colab": {
          "base_uri": "https://localhost:8080/",
          "height": 126,
          "referenced_widgets": [
            "1810c52d16d94956972c9fa17a3e2daf"
          ]
        },
        "outputId": "89629f0f-e47f-4bdf-c354-7b257c09b3c6"
      },
      "source": [
        "lrf=learn.lr_find()"
      ],
      "execution_count": null,
      "outputs": [
        {
          "output_type": "display_data",
          "data": {
            "application/vnd.jupyter.widget-view+json": {
              "model_id": "1810c52d16d94956972c9fa17a3e2daf",
              "version_minor": 0,
              "version_major": 2
            },
            "text/html": [
              "<p>Failed to display Jupyter Widget of type <code>HBox</code>.</p>\n",
              "<p>\n",
              "  If you're reading this message in the Jupyter Notebook or JupyterLab Notebook, it may mean\n",
              "  that the widgets JavaScript is still loading. If this message persists, it\n",
              "  likely means that the widgets JavaScript library is either not installed or\n",
              "  not enabled. See the <a href=\"https://ipywidgets.readthedocs.io/en/stable/user_install.html\">Jupyter\n",
              "  Widgets Documentation</a> for setup instructions.\n",
              "</p>\n",
              "<p>\n",
              "  If you're reading this message in another frontend (for example, a static\n",
              "  rendering on GitHub or <a href=\"https://nbviewer.jupyter.org/\">NBViewer</a>),\n",
              "  it may mean that your frontend doesn't currently support widgets.\n",
              "</p>\n"
            ],
            "text/plain": [
              "HBox(children=(IntProgress(value=0, description='Epoch', max=1), HTML(value='')))"
            ]
          },
          "metadata": {
            "tags": []
          }
        },
        {
          "output_type": "stream",
          "text": [
            " 87%|████████▋ | 124/143 [01:38<00:15,  1.26it/s, loss=3.06]"
          ],
          "name": "stdout"
        }
      ]
    },
    {
      "cell_type": "code",
      "metadata": {
        "id": "Uxfu5N9uFIsV",
        "colab_type": "code",
        "colab": {
          "base_uri": "https://localhost:8080/",
          "height": 279
        },
        "outputId": "0e8ced94-9a23-4a1a-b862-6fb50a28b68f"
      },
      "source": [
        "learn.sched.plot_lr()"
      ],
      "execution_count": null,
      "outputs": [
        {
          "output_type": "display_data",
          "data": {
            "image/png": "[encoded data removed]",
            "text/plain": [
              "<matplotlib.figure.Figure at 0x7f557d0d10b8>"
            ]
          },
          "metadata": {
            "tags": []
          }
        }
      ]
    },
    {
      "cell_type": "code",
      "metadata": {
        "id": "S2kpDbxPFIsg",
        "colab_type": "code",
        "colab": {
          "base_uri": "https://localhost:8080/",
          "height": 283
        },
        "outputId": "cb2b7e4b-fc9c-4ca3-f6ed-bf922dd127b7"
      },
      "source": [
        "learn.sched.plot()"
      ],
      "execution_count": null,
      "outputs": [
        {
          "output_type": "display_data",
          "data": {
            "image/png": "[encoded data removed]",
            "text/plain": [
              "<matplotlib.figure.Figure at 0x7f557d1260b8>"
            ]
          },
          "metadata": {
            "tags": []
          }
        }
      ]
    },
    {
      "cell_type": "markdown",
      "metadata": {
        "id": "04ELzeQjFIsn",
        "colab_type": "text"
      },
      "source": [
        "## Improving our model"
      ]
    },
    {
      "cell_type": "code",
      "metadata": {
        "id": "DKB3KdEcFIso",
        "colab_type": "code",
        "colab": {
          "base_uri": "https://localhost:8080/",
          "height": 1534,
          "referenced_widgets": [
            "2b597eed870d4922970d1a7e3b8c27f5"
          ]
        },
        "outputId": "e1267bd3-499d-48d6-c259-d092f69a7cfa"
      },
      "source": [
        "learn.fit(5e-2, 30)"
      ],
      "execution_count": null,
      "outputs": [
        {
          "output_type": "display_data",
          "data": {
            "application/vnd.jupyter.widget-view+json": {
              "model_id": "2b597eed870d4922970d1a7e3b8c27f5",
              "version_minor": 0,
              "version_major": 2
            },
            "text/html": [
              "<p>Failed to display Jupyter Widget of type <code>HBox</code>.</p>\n",
              "<p>\n",
              "  If you're reading this message in the Jupyter Notebook or JupyterLab Notebook, it may mean\n",
              "  that the widgets JavaScript is still loading. If this message persists, it\n",
              "  likely means that the widgets JavaScript library is either not installed or\n",
              "  not enabled. See the <a href=\"https://ipywidgets.readthedocs.io/en/stable/user_install.html\">Jupyter\n",
              "  Widgets Documentation</a> for setup instructions.\n",
              "</p>\n",
              "<p>\n",
              "  If you're reading this message in another frontend (for example, a static\n",
              "  rendering on GitHub or <a href=\"https://nbviewer.jupyter.org/\">NBViewer</a>),\n",
              "  it may mean that your frontend doesn't currently support widgets.\n",
              "</p>\n"
            ],
            "text/plain": [
              "HBox(children=(IntProgress(value=0, description='Epoch', max=30), HTML(value='')))"
            ]
          },
          "metadata": {
            "tags": []
          }
        },
        {
          "output_type": "stream",
          "text": [
            "\n",
            "  0%|          | 0/143 [00:00<?, ?it/s]\u001b[A\n",
            "  0%|          | 0/143 [00:02<?, ?it/s, loss=1.07]\u001b[A\n",
            "  1%|          | 1/143 [00:02<06:22,  2.70s/it, loss=1.07]\u001b[A\n",
            "  1%|          | 1/143 [00:03<08:10,  3.46s/it, loss=0.808]\u001b[A\n",
            "  1%|▏         | 2/143 [00:03<04:03,  1.73s/it, loss=0.808]\u001b[A\n",
            "  1%|▏         | 2/143 [00:04<05:01,  2.14s/it, loss=0.735]\u001b[A\n",
            "  2%|▏         | 3/143 [00:04<03:19,  1.43s/it, loss=0.735]\u001b[A\n",
            "  2%|▏         | 3/143 [00:05<03:57,  1.70s/it, loss=0.677]\u001b[A\n",
            "  3%|▎         | 4/143 [00:05<02:57,  1.28s/it, loss=0.677]\u001b[A\n",
            "  3%|▎         | 4/143 [00:05<03:23,  1.46s/it, loss=0.735]\u001b[A\n",
            "                                                            \n"
          ],
          "name": "stdout"
        },
        {
          "output_type": "stream",
          "text": [
            "Exception in thread Thread-25:\n",
            "Traceback (most recent call last):\n",
            "  File \"/usr/lib/python3.6/threading.py\", line 916, in _bootstrap_inner\n",
            "    self.run()\n",
            "  File \"/usr/local/lib/python3.6/dist-packages/tqdm/_tqdm.py\", line 148, in run\n",
            "    for instance in self.tqdm_cls._instances:\n",
            "  File \"/usr/lib/python3.6/_weakrefset.py\", line 60, in __iter__\n",
            "    for itemref in self.data:\n",
            "RuntimeError: Set changed size during iteration\n",
            "Exception in thread Thread-24:\n",
            "Traceback (most recent call last):\n",
            "  File \"/usr/lib/python3.6/threading.py\", line 916, in _bootstrap_inner\n",
            "    self.run()\n",
            "  File \"/usr/local/lib/python3.6/dist-packages/tqdm/_tqdm.py\", line 148, in run\n",
            "    for instance in self.tqdm_cls._instances:\n",
            "  File \"/usr/lib/python3.6/_weakrefset.py\", line 60, in __iter__\n",
            "    for itemref in self.data:\n",
            "RuntimeError: Set changed size during iteration\n",
            "\n",
            "\n"
          ],
          "name": "stderr"
        },
        {
          "output_type": "stream",
          "text": [
            "[0.      0.69066 0.3024  0.91071]\n",
            "[1.      0.59217 0.31933 0.90625]\n",
            "[2.      0.52719 0.23547 0.91964]\n",
            " 41%|████▏     | 59/143 [00:49<01:10,  1.19it/s, loss=0.48]"
          ],
          "name": "stdout"
        },
        {
          "output_type": "stream",
          "text": [
            "[3.      0.53176 0.25119 0.91964]\n",
            "[4.      0.5151  0.28029 0.91518]\n",
            "[5.      0.45542 0.24486 0.91071]\n",
            " 55%|█████▍    | 78/143 [01:05<00:54,  1.19it/s, loss=0.435]"
          ],
          "name": "stdout"
        },
        {
          "output_type": "stream",
          "text": [
            "[6.      0.46309 0.23827 0.92411]\n",
            "[7.      0.3985  0.23309 0.91964]\n",
            "[8.      0.44154 0.20542 0.91518]\n",
            " 60%|██████    | 86/143 [01:09<00:46,  1.24it/s, loss=0.403]"
          ],
          "name": "stdout"
        },
        {
          "output_type": "stream",
          "text": [
            "[9.      0.38216 0.21007 0.92857]\n",
            "[10.       0.36814  0.22235  0.92857]\n",
            "[11.       0.41407  0.21145  0.91964]\n",
            " 57%|█████▋    | 81/143 [01:07<00:51,  1.21it/s, loss=0.366]"
          ],
          "name": "stdout"
        },
        {
          "output_type": "stream",
          "text": [
            "[12.       0.39344  0.21839  0.9375 ]\n",
            " 31%|███       | 44/143 [00:36<01:21,  1.21it/s, loss=0.379]\n"
          ],
          "name": "stdout"
        },
        {
          "output_type": "error",
          "ename": "KeyboardInterrupt",
          "evalue": "ignored",
          "traceback": [
            "\u001b[0;31m---------------------------------------------------------------------------\u001b[0m",
            "\u001b[0;31mKeyboardInterrupt\u001b[0m                         Traceback (most recent call last)",
            "\u001b[0;32m<ipython-input-75-4e05b5c8292c>\u001b[0m in \u001b[0;36m<module>\u001b[0;34m()\u001b[0m\n\u001b[0;32m----> 1\u001b[0;31m \u001b[0mlearn\u001b[0m\u001b[0;34m.\u001b[0m\u001b[0mfit\u001b[0m\u001b[0;34m(\u001b[0m\u001b[0;36m5e-2\u001b[0m\u001b[0;34m,\u001b[0m \u001b[0;36m30\u001b[0m\u001b[0;34m)\u001b[0m\u001b[0;34m\u001b[0m\u001b[0m\n\u001b[0m",
            "\u001b[0;32m/usr/local/lib/python3.6/dist-packages/fastai/learner.py\u001b[0m in \u001b[0;36mfit\u001b[0;34m(self, lrs, n_cycle, wds, **kwargs)\u001b[0m\n\u001b[1;32m     97\u001b[0m         \u001b[0mself\u001b[0m\u001b[0;34m.\u001b[0m\u001b[0msched\u001b[0m \u001b[0;34m=\u001b[0m \u001b[0;32mNone\u001b[0m\u001b[0;34m\u001b[0m\u001b[0m\n\u001b[1;32m     98\u001b[0m         \u001b[0mlayer_opt\u001b[0m \u001b[0;34m=\u001b[0m \u001b[0mself\u001b[0m\u001b[0;34m.\u001b[0m\u001b[0mget_layer_opt\u001b[0m\u001b[0;34m(\u001b[0m\u001b[0mlrs\u001b[0m\u001b[0;34m,\u001b[0m \u001b[0mwds\u001b[0m\u001b[0;34m)\u001b[0m\u001b[0;34m\u001b[0m\u001b[0m\n\u001b[0;32m---> 99\u001b[0;31m         \u001b[0mself\u001b[0m\u001b[0;34m.\u001b[0m\u001b[0mfit_gen\u001b[0m\u001b[0;34m(\u001b[0m\u001b[0mself\u001b[0m\u001b[0;34m.\u001b[0m\u001b[0mmodel\u001b[0m\u001b[0;34m,\u001b[0m \u001b[0mself\u001b[0m\u001b[0;34m.\u001b[0m\u001b[0mdata\u001b[0m\u001b[0;34m,\u001b[0m \u001b[0mlayer_opt\u001b[0m\u001b[0;34m,\u001b[0m \u001b[0mn_cycle\u001b[0m\u001b[0;34m,\u001b[0m \u001b[0;34m**\u001b[0m\u001b[0mkwargs\u001b[0m\u001b[0;34m)\u001b[0m\u001b[0;34m\u001b[0m\u001b[0m\n\u001b[0m\u001b[1;32m    100\u001b[0m \u001b[0;34m\u001b[0m\u001b[0m\n\u001b[1;32m    101\u001b[0m     \u001b[0;32mdef\u001b[0m \u001b[0mlr_find\u001b[0m\u001b[0;34m(\u001b[0m\u001b[0mself\u001b[0m\u001b[0;34m,\u001b[0m \u001b[0mstart_lr\u001b[0m\u001b[0;34m=\u001b[0m\u001b[0;36m1e-5\u001b[0m\u001b[0;34m,\u001b[0m \u001b[0mend_lr\u001b[0m\u001b[0;34m=\u001b[0m\u001b[0;36m10\u001b[0m\u001b[0;34m,\u001b[0m \u001b[0mwds\u001b[0m\u001b[0;34m=\u001b[0m\u001b[0;32mNone\u001b[0m\u001b[0;34m)\u001b[0m\u001b[0;34m:\u001b[0m\u001b[0;34m\u001b[0m\u001b[0m\n",
            "\u001b[0;32m/usr/local/lib/python3.6/dist-packages/fastai/learner.py\u001b[0m in \u001b[0;36mfit_gen\u001b[0;34m(self, model, data, layer_opt, n_cycle, cycle_len, cycle_mult, cycle_save_name, metrics, callbacks, **kwargs)\u001b[0m\n\u001b[1;32m     87\u001b[0m         \u001b[0mn_epoch\u001b[0m \u001b[0;34m=\u001b[0m \u001b[0msum_geom\u001b[0m\u001b[0;34m(\u001b[0m\u001b[0mcycle_len\u001b[0m \u001b[0;32mif\u001b[0m \u001b[0mcycle_len\u001b[0m \u001b[0;32melse\u001b[0m \u001b[0;36m1\u001b[0m\u001b[0;34m,\u001b[0m \u001b[0mcycle_mult\u001b[0m\u001b[0;34m,\u001b[0m \u001b[0mn_cycle\u001b[0m\u001b[0;34m)\u001b[0m\u001b[0;34m\u001b[0m\u001b[0m\n\u001b[1;32m     88\u001b[0m         fit(model, data, n_epoch, layer_opt.opt, self.crit,\n\u001b[0;32m---> 89\u001b[0;31m             metrics=metrics, callbacks=callbacks, reg_fn=self.reg_fn, clip=self.clip, **kwargs)\n\u001b[0m\u001b[1;32m     90\u001b[0m \u001b[0;34m\u001b[0m\u001b[0m\n\u001b[1;32m     91\u001b[0m     \u001b[0;32mdef\u001b[0m \u001b[0mget_layer_groups\u001b[0m\u001b[0;34m(\u001b[0m\u001b[0mself\u001b[0m\u001b[0;34m)\u001b[0m\u001b[0;34m:\u001b[0m \u001b[0;32mreturn\u001b[0m \u001b[0mself\u001b[0m\u001b[0;34m.\u001b[0m\u001b[0mmodels\u001b[0m\u001b[0;34m.\u001b[0m\u001b[0mget_layer_groups\u001b[0m\u001b[0;34m(\u001b[0m\u001b[0;34m)\u001b[0m\u001b[0;34m\u001b[0m\u001b[0m\n",
            "\u001b[0;32m/usr/local/lib/python3.6/dist-packages/fastai/model.py\u001b[0m in \u001b[0;36mfit\u001b[0;34m(model, data, epochs, opt, crit, metrics, callbacks, **kwargs)\u001b[0m\n\u001b[1;32m     82\u001b[0m         \u001b[0;32mfor\u001b[0m \u001b[0;34m(\u001b[0m\u001b[0;34m*\u001b[0m\u001b[0mx\u001b[0m\u001b[0;34m,\u001b[0m\u001b[0my\u001b[0m\u001b[0;34m)\u001b[0m \u001b[0;32min\u001b[0m \u001b[0mt\u001b[0m\u001b[0;34m:\u001b[0m\u001b[0;34m\u001b[0m\u001b[0m\n\u001b[1;32m     83\u001b[0m             \u001b[0mbatch_num\u001b[0m \u001b[0;34m+=\u001b[0m \u001b[0;36m1\u001b[0m\u001b[0;34m\u001b[0m\u001b[0m\n\u001b[0;32m---> 84\u001b[0;31m             \u001b[0mloss\u001b[0m \u001b[0;34m=\u001b[0m \u001b[0mstepper\u001b[0m\u001b[0;34m.\u001b[0m\u001b[0mstep\u001b[0m\u001b[0;34m(\u001b[0m\u001b[0mV\u001b[0m\u001b[0;34m(\u001b[0m\u001b[0mx\u001b[0m\u001b[0;34m)\u001b[0m\u001b[0;34m,\u001b[0m\u001b[0mV\u001b[0m\u001b[0;34m(\u001b[0m\u001b[0my\u001b[0m\u001b[0;34m)\u001b[0m\u001b[0;34m)\u001b[0m\u001b[0;34m\u001b[0m\u001b[0m\n\u001b[0m\u001b[1;32m     85\u001b[0m             \u001b[0mavg_loss\u001b[0m \u001b[0;34m=\u001b[0m \u001b[0mavg_loss\u001b[0m \u001b[0;34m*\u001b[0m \u001b[0mavg_mom\u001b[0m \u001b[0;34m+\u001b[0m \u001b[0mloss\u001b[0m \u001b[0;34m*\u001b[0m \u001b[0;34m(\u001b[0m\u001b[0;36m1\u001b[0m\u001b[0;34m-\u001b[0m\u001b[0mavg_mom\u001b[0m\u001b[0;34m)\u001b[0m\u001b[0;34m\u001b[0m\u001b[0m\n\u001b[1;32m     86\u001b[0m             \u001b[0mdebias_loss\u001b[0m \u001b[0;34m=\u001b[0m \u001b[0mavg_loss\u001b[0m \u001b[0;34m/\u001b[0m \u001b[0;34m(\u001b[0m\u001b[0;36m1\u001b[0m \u001b[0;34m-\u001b[0m \u001b[0mavg_mom\u001b[0m\u001b[0;34m**\u001b[0m\u001b[0mbatch_num\u001b[0m\u001b[0;34m)\u001b[0m\u001b[0;34m\u001b[0m\u001b[0m\n",
            "\u001b[0;32m/usr/local/lib/python3.6/dist-packages/fastai/model.py\u001b[0m in \u001b[0;36mstep\u001b[0;34m(self, xs, y)\u001b[0m\n\u001b[1;32m     47\u001b[0m             \u001b[0mnn\u001b[0m\u001b[0;34m.\u001b[0m\u001b[0mutils\u001b[0m\u001b[0;34m.\u001b[0m\u001b[0mclip_grad_norm\u001b[0m\u001b[0;34m(\u001b[0m\u001b[0mtrainable_params_\u001b[0m\u001b[0;34m(\u001b[0m\u001b[0mself\u001b[0m\u001b[0;34m.\u001b[0m\u001b[0mm\u001b[0m\u001b[0;34m)\u001b[0m\u001b[0;34m,\u001b[0m \u001b[0mself\u001b[0m\u001b[0;34m.\u001b[0m\u001b[0mclip\u001b[0m\u001b[0;34m)\u001b[0m\u001b[0;34m\u001b[0m\u001b[0m\n\u001b[1;32m     48\u001b[0m         \u001b[0mself\u001b[0m\u001b[0;34m.\u001b[0m\u001b[0mopt\u001b[0m\u001b[0;34m.\u001b[0m\u001b[0mstep\u001b[0m\u001b[0;34m(\u001b[0m\u001b[0;34m)\u001b[0m\u001b[0;34m\u001b[0m\u001b[0m\n\u001b[0;32m---> 49\u001b[0;31m         \u001b[0;32mreturn\u001b[0m \u001b[0mraw_loss\u001b[0m\u001b[0;34m.\u001b[0m\u001b[0mdata\u001b[0m\u001b[0;34m[\u001b[0m\u001b[0;36m0\u001b[0m\u001b[0;34m]\u001b[0m\u001b[0;34m\u001b[0m\u001b[0m\n\u001b[0m\u001b[1;32m     50\u001b[0m \u001b[0;34m\u001b[0m\u001b[0m\n\u001b[1;32m     51\u001b[0m     \u001b[0;32mdef\u001b[0m \u001b[0mevaluate\u001b[0m\u001b[0;34m(\u001b[0m\u001b[0mself\u001b[0m\u001b[0;34m,\u001b[0m \u001b[0mxs\u001b[0m\u001b[0;34m,\u001b[0m \u001b[0my\u001b[0m\u001b[0;34m)\u001b[0m\u001b[0;34m:\u001b[0m\u001b[0;34m\u001b[0m\u001b[0m\n",
            "\u001b[0;31mKeyboardInterrupt\u001b[0m: "
          ]
        }
      ]
    },
    {
      "cell_type": "code",
      "metadata": {
        "id": "8DqQ85RVdVwm",
        "colab_type": "code",
        "colab": {}
      },
      "source": [
        "learn.save('simple_30_epochs')"
      ],
      "execution_count": null,
      "outputs": []
    },
    {
      "cell_type": "code",
      "metadata": {
        "id": "Oic95FNz0Q0N",
        "colab_type": "code",
        "colab": {}
      },
      "source": [
        "learn.load('simple_30_epochs')"
      ],
      "execution_count": null,
      "outputs": []
    },
    {
      "cell_type": "code",
      "metadata": {
        "id": "63ZoF_-O0XmR",
        "colab_type": "code",
        "colab": {
          "base_uri": "https://localhost:8080/",
          "height": 5039,
          "referenced_widgets": [
            "5d0ecf72eea043d1af8942316d69ef49"
          ]
        },
        "outputId": "8de56399-1fbd-4694-a49a-71fcaa7544e2"
      },
      "source": [
        "learn.fit(5e-3, 1)"
      ],
      "execution_count": null,
      "outputs": [
        {
          "output_type": "display_data",
          "data": {
            "application/vnd.jupyter.widget-view+json": {
              "model_id": "5d0ecf72eea043d1af8942316d69ef49",
              "version_minor": 0,
              "version_major": 2
            },
            "text/html": [
              "<p>Failed to display Jupyter Widget of type <code>HBox</code>.</p>\n",
              "<p>\n",
              "  If you're reading this message in the Jupyter Notebook or JupyterLab Notebook, it may mean\n",
              "  that the widgets JavaScript is still loading. If this message persists, it\n",
              "  likely means that the widgets JavaScript library is either not installed or\n",
              "  not enabled. See the <a href=\"https://ipywidgets.readthedocs.io/en/stable/user_install.html\">Jupyter\n",
              "  Widgets Documentation</a> for setup instructions.\n",
              "</p>\n",
              "<p>\n",
              "  If you're reading this message in another frontend (for example, a static\n",
              "  rendering on GitHub or <a href=\"https://nbviewer.jupyter.org/\">NBViewer</a>),\n",
              "  it may mean that your frontend doesn't currently support widgets.\n",
              "</p>\n"
            ],
            "text/plain": [
              "HBox(children=(IntProgress(value=0, description='Epoch', max=1), HTML(value='')))"
            ]
          },
          "metadata": {
            "tags": []
          }
        },
        {
          "output_type": "stream",
          "text": [
            "\n",
            "  0%|          | 0/143 [00:00<?, ?it/s]\u001b[A\n",
            "  0%|          | 0/143 [00:02<?, ?it/s, loss=0.257]\u001b[A\n",
            "  1%|          | 1/143 [00:02<06:29,  2.74s/it, loss=0.257]\u001b[A\n",
            "  1%|          | 1/143 [00:03<08:42,  3.68s/it, loss=0.282]\u001b[A\n",
            "  1%|▏         | 2/143 [00:03<04:20,  1.85s/it, loss=0.282]\u001b[A\n",
            "  1%|▏         | 2/143 [00:04<05:16,  2.25s/it, loss=0.267]\u001b[A\n",
            "  2%|▏         | 3/143 [00:04<03:30,  1.50s/it, loss=0.267]\u001b[A\n",
            "  2%|▏         | 3/143 [00:05<04:06,  1.76s/it, loss=0.307]\u001b[A\n",
            "  3%|▎         | 4/143 [00:05<03:03,  1.32s/it, loss=0.307]\u001b[A\n",
            "  3%|▎         | 4/143 [00:06<03:31,  1.52s/it, loss=0.328]\u001b[A\n",
            "  3%|▎         | 5/143 [00:06<02:48,  1.22s/it, loss=0.328]\u001b[A\n",
            "  3%|▎         | 5/143 [00:06<03:09,  1.37s/it, loss=0.31] \u001b[A\n",
            "  4%|▍         | 6/143 [00:06<02:37,  1.15s/it, loss=0.31]\u001b[A\n",
            "  4%|▍         | 6/143 [00:07<02:54,  1.28s/it, loss=0.313]\u001b[A\n",
            "  5%|▍         | 7/143 [00:07<02:29,  1.10s/it, loss=0.313]\u001b[A\n",
            "  5%|▍         | 7/143 [00:08<02:43,  1.21s/it, loss=0.313]\u001b[A\n",
            "  6%|▌         | 8/143 [00:08<02:22,  1.06s/it, loss=0.313]\u001b[A\n",
            "  6%|▌         | 8/143 [00:09<02:35,  1.15s/it, loss=0.303]\u001b[A\n",
            "  6%|▋         | 9/143 [00:09<02:17,  1.03s/it, loss=0.303]\u001b[A\n",
            "  6%|▋         | 9/143 [00:10<02:29,  1.11s/it, loss=0.308]\u001b[A\n",
            "  7%|▋         | 10/143 [00:10<02:13,  1.00s/it, loss=0.308]\u001b[A\n",
            "  7%|▋         | 10/143 [00:10<02:23,  1.08s/it, loss=0.35] \u001b[A\n",
            "  8%|▊         | 11/143 [00:10<02:09,  1.02it/s, loss=0.35]\u001b[A\n",
            "  8%|▊         | 11/143 [00:11<02:19,  1.05s/it, loss=0.335]\u001b[A\n",
            "  8%|▊         | 12/143 [00:11<02:07,  1.03it/s, loss=0.335]\u001b[A\n",
            "  8%|▊         | 12/143 [00:12<02:15,  1.03s/it, loss=0.352]\u001b[A\n",
            "  9%|▉         | 13/143 [00:12<02:04,  1.05it/s, loss=0.352]\u001b[A\n",
            "  9%|▉         | 13/143 [00:13<02:11,  1.01s/it, loss=0.37] \u001b[A\n",
            " 10%|▉         | 14/143 [00:13<02:01,  1.06it/s, loss=0.37]\u001b[A\n",
            " 10%|▉         | 14/143 [00:13<02:08,  1.00it/s, loss=0.36]\u001b[A\n",
            " 10%|█         | 15/143 [00:13<01:59,  1.07it/s, loss=0.36]\u001b[A\n",
            " 10%|█         | 15/143 [00:14<02:06,  1.02it/s, loss=0.377]\u001b[A\n",
            " 11%|█         | 16/143 [00:14<01:57,  1.08it/s, loss=0.377]"
          ],
          "name": "stdout"
        },
        {
          "output_type": "stream",
          "text": [
            "\u001b[A\n",
            " 11%|█         | 16/143 [00:15<02:03,  1.03it/s, loss=0.359]\u001b[A\n",
            " 12%|█▏        | 17/143 [00:15<01:55,  1.09it/s, loss=0.359]\u001b[A\n",
            " 12%|█▏        | 17/143 [00:16<02:01,  1.04it/s, loss=0.364]\u001b[A\n",
            " 13%|█▎        | 18/143 [00:16<01:54,  1.10it/s, loss=0.364]\u001b[A\n",
            " 13%|█▎        | 18/143 [00:17<01:59,  1.05it/s, loss=0.362]\u001b[A\n",
            " 13%|█▎        | 19/143 [00:17<01:52,  1.10it/s, loss=0.362]\u001b[A\n",
            " 13%|█▎        | 19/143 [00:17<01:57,  1.06it/s, loss=0.356]\u001b[A\n",
            " 14%|█▍        | 20/143 [00:17<01:50,  1.11it/s, loss=0.356]\u001b[A\n",
            " 14%|█▍        | 20/143 [00:18<01:55,  1.07it/s, loss=0.344]\u001b[A\n",
            " 15%|█▍        | 21/143 [00:18<01:49,  1.12it/s, loss=0.344]\u001b[A\n",
            " 15%|█▍        | 21/143 [00:19<01:53,  1.08it/s, loss=0.339]\u001b[A\n",
            " 15%|█▌        | 22/143 [00:19<01:47,  1.12it/s, loss=0.339]\u001b[A\n",
            " 15%|█▌        | 22/143 [00:20<01:51,  1.08it/s, loss=0.336]\u001b[A\n",
            " 16%|█▌        | 23/143 [00:20<01:46,  1.13it/s, loss=0.336]\u001b[A\n",
            " 16%|█▌        | 23/143 [00:21<01:50,  1.09it/s, loss=0.325]\u001b[A\n",
            " 17%|█▋        | 24/143 [00:21<01:44,  1.13it/s, loss=0.325]\u001b[A\n",
            " 17%|█▋        | 24/143 [00:21<01:48,  1.10it/s, loss=0.316]\u001b[A\n",
            " 17%|█▋        | 25/143 [00:21<01:43,  1.14it/s, loss=0.316]\u001b[A\n",
            " 17%|█▋        | 25/143 [00:22<01:47,  1.10it/s, loss=0.309]\u001b[A\n",
            " 18%|█▊        | 26/143 [00:22<01:42,  1.15it/s, loss=0.309]\u001b[A\n",
            " 18%|█▊        | 26/143 [00:23<01:45,  1.11it/s, loss=0.31] \u001b[A\n",
            " 19%|█▉        | 27/143 [00:23<01:40,  1.15it/s, loss=0.31]\u001b[A\n",
            " 19%|█▉        | 27/143 [00:24<01:44,  1.12it/s, loss=0.326]\u001b[A\n",
            " 20%|█▉        | 28/143 [00:24<01:39,  1.16it/s, loss=0.326]\u001b[A\n",
            " 20%|█▉        | 28/143 [00:25<01:42,  1.12it/s, loss=0.326]\u001b[A\n",
            " 20%|██        | 29/143 [00:25<01:38,  1.16it/s, loss=0.326]\u001b[A\n",
            " 20%|██        | 29/143 [00:25<01:41,  1.12it/s, loss=0.332]\u001b[A\n",
            " 21%|██        | 30/143 [00:25<01:37,  1.16it/s, loss=0.332]\u001b[A\n",
            " 21%|██        | 30/143 [00:26<01:39,  1.13it/s, loss=0.326]\u001b[A\n",
            " 22%|██▏       | 31/143 [00:26<01:36,  1.17it/s, loss=0.326]\u001b[A\n",
            " 22%|██▏       | 31/143 [00:27<01:38,  1.13it/s, loss=0.324]\u001b[A\n",
            " 22%|██▏       | 32/143 [00:27<01:35,  1.17it/s, loss=0.324]\u001b[A"
          ],
          "name": "stdout"
        },
        {
          "output_type": "stream",
          "text": [
            "\n",
            " 22%|██▏       | 32/143 [00:28<01:37,  1.13it/s, loss=0.32] \u001b[A\n",
            " 23%|██▎       | 33/143 [00:28<01:34,  1.17it/s, loss=0.32]\u001b[A\n",
            " 23%|██▎       | 33/143 [00:28<01:36,  1.14it/s, loss=0.32]\u001b[A\n",
            " 24%|██▍       | 34/143 [00:28<01:32,  1.17it/s, loss=0.32]\u001b[A\n",
            " 24%|██▍       | 34/143 [00:29<01:35,  1.14it/s, loss=0.325]\u001b[A\n",
            " 24%|██▍       | 35/143 [00:29<01:31,  1.17it/s, loss=0.325]\u001b[A\n",
            " 24%|██▍       | 35/143 [00:30<01:34,  1.15it/s, loss=0.333]\u001b[A\n",
            " 25%|██▌       | 36/143 [00:30<01:30,  1.18it/s, loss=0.333]\u001b[A\n",
            " 25%|██▌       | 36/143 [00:31<01:33,  1.15it/s, loss=0.335]\u001b[A\n",
            " 26%|██▌       | 37/143 [00:31<01:29,  1.18it/s, loss=0.335]\u001b[A\n",
            " 26%|██▌       | 37/143 [00:32<01:31,  1.15it/s, loss=0.324]\u001b[A\n",
            " 27%|██▋       | 38/143 [00:32<01:28,  1.19it/s, loss=0.324]\u001b[A\n",
            " 27%|██▋       | 38/143 [00:32<01:30,  1.16it/s, loss=0.317]\u001b[A\n",
            " 27%|██▋       | 39/143 [00:32<01:27,  1.19it/s, loss=0.317]\u001b[A\n",
            " 27%|██▋       | 39/143 [00:33<01:29,  1.16it/s, loss=0.326]\u001b[A\n",
            " 28%|██▊       | 40/143 [00:33<01:26,  1.19it/s, loss=0.326]\u001b[A\n",
            " 28%|██▊       | 40/143 [00:34<01:28,  1.16it/s, loss=0.323]\u001b[A\n",
            " 29%|██▊       | 41/143 [00:34<01:25,  1.19it/s, loss=0.323]\u001b[A\n",
            " 29%|██▊       | 41/143 [00:35<01:27,  1.16it/s, loss=0.32] \u001b[A\n",
            " 29%|██▉       | 42/143 [00:35<01:24,  1.19it/s, loss=0.32]\u001b[A\n",
            " 29%|██▉       | 42/143 [00:35<01:26,  1.17it/s, loss=0.318]\u001b[A\n",
            " 30%|███       | 43/143 [00:36<01:23,  1.19it/s, loss=0.318]\u001b[A\n",
            " 30%|███       | 43/143 [00:36<01:25,  1.17it/s, loss=0.32] \u001b[A\n",
            " 31%|███       | 44/143 [00:36<01:22,  1.20it/s, loss=0.32]\u001b[A\n",
            " 31%|███       | 44/143 [00:37<01:24,  1.17it/s, loss=0.318]\u001b[A\n",
            " 31%|███▏      | 45/143 [00:37<01:21,  1.20it/s, loss=0.318]\u001b[A\n",
            " 31%|███▏      | 45/143 [00:38<01:23,  1.17it/s, loss=0.315]\u001b[A\n",
            " 32%|███▏      | 46/143 [00:38<01:21,  1.20it/s, loss=0.315]\u001b[A\n",
            " 32%|███▏      | 46/143 [00:39<01:22,  1.17it/s, loss=0.318]\u001b[A\n",
            " 33%|███▎      | 47/143 [00:39<01:20,  1.20it/s, loss=0.318]\u001b[A\n",
            " 33%|███▎      | 47/143 [00:40<01:21,  1.17it/s, loss=0.315]\u001b[A\n",
            " 34%|███▎      | 48/143 [00:40<01:19,  1.20it/s, loss=0.315]\u001b[A"
          ],
          "name": "stdout"
        },
        {
          "output_type": "stream",
          "text": [
            "\n",
            " 34%|███▎      | 48/143 [00:40<01:20,  1.18it/s, loss=0.312]\u001b[A\n",
            " 34%|███▍      | 49/143 [00:40<01:18,  1.20it/s, loss=0.312]\u001b[A\n",
            " 34%|███▍      | 49/143 [00:41<01:19,  1.18it/s, loss=0.316]\u001b[A\n",
            " 35%|███▍      | 50/143 [00:41<01:17,  1.20it/s, loss=0.316]\u001b[A\n",
            " 35%|███▍      | 50/143 [00:42<01:18,  1.18it/s, loss=0.324]\u001b[A\n",
            " 36%|███▌      | 51/143 [00:42<01:16,  1.20it/s, loss=0.324]\u001b[A\n",
            " 36%|███▌      | 51/143 [00:43<01:17,  1.18it/s, loss=0.322]\u001b[A\n",
            " 36%|███▋      | 52/143 [00:43<01:15,  1.20it/s, loss=0.322]\u001b[A\n",
            " 36%|███▋      | 52/143 [00:44<01:17,  1.18it/s, loss=0.32] \u001b[A\n",
            " 37%|███▋      | 53/143 [00:44<01:14,  1.20it/s, loss=0.32]\u001b[A\n",
            " 37%|███▋      | 53/143 [00:44<01:15,  1.18it/s, loss=0.318]\u001b[A\n",
            " 38%|███▊      | 54/143 [00:44<01:13,  1.21it/s, loss=0.318]\u001b[A\n",
            " 38%|███▊      | 54/143 [00:45<01:15,  1.19it/s, loss=0.319]\u001b[A\n",
            " 38%|███▊      | 55/143 [00:45<01:12,  1.21it/s, loss=0.319]\u001b[A\n",
            " 38%|███▊      | 55/143 [00:46<01:14,  1.19it/s, loss=0.317]\u001b[A\n",
            " 39%|███▉      | 56/143 [00:46<01:11,  1.21it/s, loss=0.317]\u001b[A\n",
            " 39%|███▉      | 56/143 [00:47<01:13,  1.19it/s, loss=0.316]\u001b[A\n",
            " 40%|███▉      | 57/143 [00:47<01:11,  1.21it/s, loss=0.316]\u001b[A\n",
            " 40%|███▉      | 57/143 [00:47<01:12,  1.19it/s, loss=0.312]\u001b[A\n",
            " 41%|████      | 58/143 [00:47<01:10,  1.21it/s, loss=0.312]\u001b[A\n",
            " 41%|████      | 58/143 [00:48<01:11,  1.19it/s, loss=0.31] \u001b[A\n",
            " 41%|████▏     | 59/143 [00:48<01:09,  1.21it/s, loss=0.31]\u001b[A\n",
            " 41%|████▏     | 59/143 [00:49<01:10,  1.19it/s, loss=0.318]\u001b[A\n",
            " 42%|████▏     | 60/143 [00:49<01:08,  1.21it/s, loss=0.318]\u001b[A\n",
            " 42%|████▏     | 60/143 [00:50<01:09,  1.20it/s, loss=0.313]\u001b[A\n",
            " 43%|████▎     | 61/143 [00:50<01:07,  1.21it/s, loss=0.313]\u001b[A\n",
            " 43%|████▎     | 61/143 [00:51<01:08,  1.20it/s, loss=0.316]\u001b[A\n",
            " 43%|████▎     | 62/143 [00:51<01:06,  1.21it/s, loss=0.316]\u001b[A\n",
            " 43%|████▎     | 62/143 [00:51<01:07,  1.20it/s, loss=0.324]\u001b[A\n",
            " 44%|████▍     | 63/143 [00:51<01:05,  1.21it/s, loss=0.324]\u001b[A\n",
            " 44%|████▍     | 63/143 [00:52<01:06,  1.20it/s, loss=0.321]\u001b[A\n",
            " 45%|████▍     | 64/143 [00:52<01:04,  1.22it/s, loss=0.321]\u001b[A"
          ],
          "name": "stdout"
        },
        {
          "output_type": "stream",
          "text": [
            "\n",
            " 45%|████▍     | 64/143 [00:53<01:05,  1.20it/s, loss=0.324]\u001b[A\n",
            " 45%|████▌     | 65/143 [00:53<01:04,  1.22it/s, loss=0.324]\u001b[A\n",
            " 45%|████▌     | 65/143 [00:54<01:05,  1.20it/s, loss=0.322]\u001b[A\n",
            " 46%|████▌     | 66/143 [00:54<01:03,  1.22it/s, loss=0.322]\u001b[A\n",
            " 46%|████▌     | 66/143 [00:54<01:04,  1.20it/s, loss=0.322]\u001b[A\n",
            " 47%|████▋     | 67/143 [00:54<01:02,  1.22it/s, loss=0.322]\u001b[A\n",
            " 47%|████▋     | 67/143 [00:55<01:03,  1.20it/s, loss=0.321]\u001b[A\n",
            " 48%|████▊     | 68/143 [00:55<01:01,  1.22it/s, loss=0.321]\u001b[A\n",
            " 48%|████▊     | 68/143 [00:56<01:02,  1.20it/s, loss=0.327]\u001b[A\n",
            " 48%|████▊     | 69/143 [00:56<01:00,  1.22it/s, loss=0.327]\u001b[A\n",
            " 48%|████▊     | 69/143 [00:57<01:01,  1.20it/s, loss=0.322]\u001b[A\n",
            " 49%|████▉     | 70/143 [00:57<00:59,  1.22it/s, loss=0.322]\u001b[A\n",
            " 49%|████▉     | 70/143 [00:58<01:00,  1.20it/s, loss=0.316]\u001b[A\n",
            " 50%|████▉     | 71/143 [00:58<00:58,  1.22it/s, loss=0.316]\u001b[A\n",
            " 50%|████▉     | 71/143 [00:58<00:59,  1.20it/s, loss=0.318]\u001b[A\n",
            " 50%|█████     | 72/143 [00:58<00:58,  1.22it/s, loss=0.318]\u001b[A\n",
            " 50%|█████     | 72/143 [00:59<00:58,  1.21it/s, loss=0.315]\u001b[A\n",
            " 51%|█████     | 73/143 [00:59<00:57,  1.22it/s, loss=0.315]\u001b[A\n",
            " 51%|█████     | 73/143 [01:00<00:58,  1.21it/s, loss=0.316]\u001b[A\n",
            " 52%|█████▏    | 74/143 [01:00<00:56,  1.22it/s, loss=0.316]\u001b[A\n",
            " 52%|█████▏    | 74/143 [01:01<00:57,  1.21it/s, loss=0.315]\u001b[A\n",
            " 52%|█████▏    | 75/143 [01:01<00:55,  1.22it/s, loss=0.315]\u001b[A\n",
            " 52%|█████▏    | 75/143 [01:02<00:56,  1.21it/s, loss=0.313]\u001b[A\n",
            " 53%|█████▎    | 76/143 [01:02<00:54,  1.22it/s, loss=0.313]\u001b[A\n",
            " 53%|█████▎    | 76/143 [01:02<00:55,  1.21it/s, loss=0.315]\u001b[A\n",
            " 54%|█████▍    | 77/143 [01:02<00:53,  1.22it/s, loss=0.315]\u001b[A\n",
            " 54%|█████▍    | 77/143 [01:03<00:54,  1.21it/s, loss=0.311]\u001b[A\n",
            " 55%|█████▍    | 78/143 [01:03<00:53,  1.23it/s, loss=0.311]\u001b[A\n",
            " 55%|█████▍    | 78/143 [01:04<00:53,  1.21it/s, loss=0.31] \u001b[A\n",
            " 55%|█████▌    | 79/143 [01:04<00:52,  1.23it/s, loss=0.31]\u001b[A\n",
            " 55%|█████▌    | 79/143 [01:05<00:52,  1.21it/s, loss=0.314]\u001b[A\n",
            " 56%|█████▌    | 80/143 [01:05<00:51,  1.23it/s, loss=0.314]\u001b[A"
          ],
          "name": "stdout"
        },
        {
          "output_type": "stream",
          "text": [
            "\n",
            " 56%|█████▌    | 80/143 [01:06<00:51,  1.21it/s, loss=0.318]\u001b[A\n",
            " 57%|█████▋    | 81/143 [01:06<00:50,  1.23it/s, loss=0.318]\u001b[A\n",
            " 57%|█████▋    | 81/143 [01:06<00:51,  1.21it/s, loss=0.317]\u001b[A\n",
            " 57%|█████▋    | 82/143 [01:06<00:49,  1.23it/s, loss=0.317]\u001b[A\n",
            " 57%|█████▋    | 82/143 [01:07<00:50,  1.21it/s, loss=0.322]\u001b[A\n",
            " 58%|█████▊    | 83/143 [01:07<00:48,  1.23it/s, loss=0.322]\u001b[A\n",
            " 58%|█████▊    | 83/143 [01:08<00:49,  1.21it/s, loss=0.329]\u001b[A\n",
            " 59%|█████▊    | 84/143 [01:08<00:48,  1.23it/s, loss=0.329]\u001b[A\n",
            " 59%|█████▊    | 84/143 [01:09<00:48,  1.21it/s, loss=0.329]\u001b[A\n",
            " 59%|█████▉    | 85/143 [01:09<00:47,  1.23it/s, loss=0.329]\u001b[A\n",
            " 59%|█████▉    | 85/143 [01:10<00:47,  1.21it/s, loss=0.326]\u001b[A\n",
            " 60%|██████    | 86/143 [01:10<00:46,  1.23it/s, loss=0.326]\u001b[A\n",
            " 60%|██████    | 86/143 [01:10<00:46,  1.21it/s, loss=0.321]\u001b[A\n",
            " 61%|██████    | 87/143 [01:10<00:45,  1.23it/s, loss=0.321]\u001b[A\n",
            " 61%|██████    | 87/143 [01:11<00:46,  1.22it/s, loss=0.32] \u001b[A\n",
            " 62%|██████▏   | 88/143 [01:11<00:44,  1.23it/s, loss=0.32]\u001b[A\n",
            " 62%|██████▏   | 88/143 [01:12<00:45,  1.22it/s, loss=0.317]\u001b[A\n",
            " 62%|██████▏   | 89/143 [01:12<00:43,  1.23it/s, loss=0.317]\u001b[A\n",
            " 62%|██████▏   | 89/143 [01:13<00:44,  1.22it/s, loss=0.314]\u001b[A\n",
            " 63%|██████▎   | 90/143 [01:13<00:43,  1.23it/s, loss=0.314]\u001b[A\n",
            " 63%|██████▎   | 90/143 [01:14<00:43,  1.22it/s, loss=0.31] \u001b[A\n",
            " 64%|██████▎   | 91/143 [01:14<00:42,  1.23it/s, loss=0.31]\u001b[A\n",
            " 64%|██████▎   | 91/143 [01:14<00:42,  1.22it/s, loss=0.313]\u001b[A\n",
            " 64%|██████▍   | 92/143 [01:14<00:41,  1.23it/s, loss=0.313]\u001b[A\n",
            " 64%|██████▍   | 92/143 [01:15<00:41,  1.22it/s, loss=0.314]\u001b[A\n",
            " 65%|██████▌   | 93/143 [01:15<00:40,  1.23it/s, loss=0.314]\u001b[A\n",
            " 65%|██████▌   | 93/143 [01:16<00:41,  1.22it/s, loss=0.317]\u001b[A\n",
            " 66%|██████▌   | 94/143 [01:16<00:39,  1.23it/s, loss=0.317]\u001b[A\n",
            " 66%|██████▌   | 94/143 [01:17<00:40,  1.22it/s, loss=0.316]\u001b[A\n",
            " 66%|██████▋   | 95/143 [01:17<00:39,  1.23it/s, loss=0.316]\u001b[A\n",
            " 66%|██████▋   | 95/143 [01:18<00:39,  1.22it/s, loss=0.314]\u001b[A\n",
            " 67%|██████▋   | 96/143 [01:18<00:38,  1.23it/s, loss=0.314]\u001b[A"
          ],
          "name": "stdout"
        },
        {
          "output_type": "stream",
          "text": [
            "\n",
            " 67%|██████▋   | 96/143 [01:18<00:38,  1.22it/s, loss=0.315]\u001b[A\n",
            " 68%|██████▊   | 97/143 [01:18<00:37,  1.23it/s, loss=0.315]\u001b[A\n",
            " 68%|██████▊   | 97/143 [01:19<00:37,  1.22it/s, loss=0.316]\u001b[A\n",
            " 69%|██████▊   | 98/143 [01:19<00:36,  1.23it/s, loss=0.316]\u001b[A\n",
            " 69%|██████▊   | 98/143 [01:20<00:36,  1.22it/s, loss=0.312]\u001b[A\n",
            " 69%|██████▉   | 99/143 [01:20<00:35,  1.23it/s, loss=0.312]\u001b[A\n",
            " 69%|██████▉   | 99/143 [01:21<00:36,  1.22it/s, loss=0.32] \u001b[A\n",
            " 70%|██████▉   | 100/143 [01:21<00:34,  1.23it/s, loss=0.32]\u001b[A\n",
            " 70%|██████▉   | 100/143 [01:22<00:35,  1.22it/s, loss=0.318]\u001b[A\n",
            " 71%|███████   | 101/143 [01:22<00:34,  1.23it/s, loss=0.318]\u001b[A\n",
            " 71%|███████   | 101/143 [01:22<00:34,  1.22it/s, loss=0.315]\u001b[A\n",
            " 71%|███████▏  | 102/143 [01:22<00:33,  1.23it/s, loss=0.315]\u001b[A\n",
            " 71%|███████▏  | 102/143 [01:23<00:33,  1.22it/s, loss=0.322]\u001b[A\n",
            " 72%|███████▏  | 103/143 [01:23<00:32,  1.23it/s, loss=0.322]\u001b[A\n",
            " 72%|███████▏  | 103/143 [01:24<00:32,  1.22it/s, loss=0.327]\u001b[A\n",
            " 73%|███████▎  | 104/143 [01:24<00:31,  1.23it/s, loss=0.327]\u001b[A\n",
            " 73%|███████▎  | 104/143 [01:25<00:31,  1.22it/s, loss=0.329]\u001b[A\n",
            " 73%|███████▎  | 105/143 [01:25<00:30,  1.23it/s, loss=0.329]\u001b[A\n",
            " 73%|███████▎  | 105/143 [01:25<00:31,  1.22it/s, loss=0.327]\u001b[A\n",
            " 74%|███████▍  | 106/143 [01:25<00:30,  1.23it/s, loss=0.327]\u001b[A\n",
            " 74%|███████▍  | 106/143 [01:26<00:30,  1.22it/s, loss=0.321]\u001b[A\n",
            " 75%|███████▍  | 107/143 [01:26<00:29,  1.23it/s, loss=0.321]\u001b[A\n",
            " 75%|███████▍  | 107/143 [01:27<00:29,  1.22it/s, loss=0.318]\u001b[A\n",
            " 76%|███████▌  | 108/143 [01:27<00:28,  1.23it/s, loss=0.318]\u001b[A\n",
            " 76%|███████▌  | 108/143 [01:28<00:28,  1.22it/s, loss=0.315]\u001b[A\n",
            " 76%|███████▌  | 109/143 [01:28<00:27,  1.23it/s, loss=0.315]\u001b[A\n",
            " 76%|███████▌  | 109/143 [01:29<00:27,  1.22it/s, loss=0.314]\u001b[A\n",
            " 77%|███████▋  | 110/143 [01:29<00:26,  1.23it/s, loss=0.314]\u001b[A\n",
            " 77%|███████▋  | 110/143 [01:29<00:26,  1.22it/s, loss=0.313]\u001b[A\n",
            " 78%|███████▊  | 111/143 [01:29<00:25,  1.23it/s, loss=0.313]\u001b[A\n",
            " 78%|███████▊  | 111/143 [01:30<00:26,  1.22it/s, loss=0.311]\u001b[A\n",
            " 78%|███████▊  | 112/143 [01:30<00:25,  1.23it/s, loss=0.311]"
          ],
          "name": "stdout"
        },
        {
          "output_type": "stream",
          "text": [
            "\u001b[A\n",
            " 78%|███████▊  | 112/143 [01:31<00:25,  1.22it/s, loss=0.311]\u001b[A\n",
            " 79%|███████▉  | 113/143 [01:31<00:24,  1.24it/s, loss=0.311]\u001b[A\n",
            " 79%|███████▉  | 113/143 [01:32<00:24,  1.23it/s, loss=0.306]\u001b[A\n",
            " 80%|███████▉  | 114/143 [01:32<00:23,  1.24it/s, loss=0.306]\u001b[A\n",
            " 80%|███████▉  | 114/143 [01:33<00:23,  1.23it/s, loss=0.31] \u001b[A\n",
            " 80%|████████  | 115/143 [01:33<00:22,  1.24it/s, loss=0.31]\u001b[A\n",
            " 80%|████████  | 115/143 [01:33<00:22,  1.23it/s, loss=0.307]\u001b[A\n",
            " 81%|████████  | 116/143 [01:33<00:21,  1.24it/s, loss=0.307]\u001b[A\n",
            " 81%|████████  | 116/143 [01:34<00:22,  1.23it/s, loss=0.306]\u001b[A\n",
            " 82%|████████▏ | 117/143 [01:34<00:21,  1.24it/s, loss=0.306]\u001b[A\n",
            " 82%|████████▏ | 117/143 [01:35<00:21,  1.23it/s, loss=0.305]\u001b[A\n",
            " 83%|████████▎ | 118/143 [01:35<00:20,  1.24it/s, loss=0.305]\u001b[A\n",
            " 83%|████████▎ | 118/143 [01:36<00:20,  1.23it/s, loss=0.305]\u001b[A\n",
            " 83%|████████▎ | 119/143 [01:36<00:19,  1.24it/s, loss=0.305]\u001b[A\n",
            " 83%|████████▎ | 119/143 [01:37<00:19,  1.23it/s, loss=0.303]\u001b[A\n",
            " 84%|████████▍ | 120/143 [01:37<00:18,  1.24it/s, loss=0.303]\u001b[A\n",
            " 84%|████████▍ | 120/143 [01:37<00:18,  1.23it/s, loss=0.305]\u001b[A\n",
            " 85%|████████▍ | 121/143 [01:37<00:17,  1.24it/s, loss=0.305]\u001b[A\n",
            " 85%|████████▍ | 121/143 [01:38<00:17,  1.23it/s, loss=0.302]\u001b[A\n",
            " 85%|████████▌ | 122/143 [01:38<00:16,  1.24it/s, loss=0.302]\u001b[A\n",
            " 85%|████████▌ | 122/143 [01:39<00:17,  1.23it/s, loss=0.297]\u001b[A\n",
            " 86%|████████▌ | 123/143 [01:39<00:16,  1.24it/s, loss=0.297]\u001b[A\n",
            " 86%|████████▌ | 123/143 [01:40<00:16,  1.23it/s, loss=0.295]\u001b[A\n",
            " 87%|████████▋ | 124/143 [01:40<00:15,  1.24it/s, loss=0.295]\u001b[A\n",
            " 87%|████████▋ | 124/143 [01:40<00:15,  1.23it/s, loss=0.298]\u001b[A\n",
            " 87%|████████▋ | 125/143 [01:40<00:14,  1.24it/s, loss=0.298]\u001b[A\n",
            " 87%|████████▋ | 125/143 [01:41<00:14,  1.23it/s, loss=0.297]\u001b[A\n",
            " 88%|████████▊ | 126/143 [01:41<00:13,  1.24it/s, loss=0.297]\u001b[A\n",
            " 88%|████████▊ | 126/143 [01:42<00:13,  1.23it/s, loss=0.296]\u001b[A\n",
            " 89%|████████▉ | 127/143 [01:42<00:12,  1.24it/s, loss=0.296]\u001b[A\n",
            " 89%|████████▉ | 127/143 [01:43<00:12,  1.23it/s, loss=0.303]\u001b[A\n",
            " 90%|████████▉ | 128/143 [01:43<00:12,  1.24it/s, loss=0.303]"
          ],
          "name": "stdout"
        },
        {
          "output_type": "stream",
          "text": [
            "\u001b[A\n",
            " 90%|████████▉ | 128/143 [01:43<00:12,  1.23it/s, loss=0.302]\u001b[A\n",
            " 90%|█████████ | 129/143 [01:43<00:11,  1.24it/s, loss=0.302]\u001b[A\n",
            " 90%|█████████ | 129/143 [01:44<00:11,  1.24it/s, loss=0.299]\u001b[A\n",
            " 91%|█████████ | 130/143 [01:44<00:10,  1.25it/s, loss=0.299]\u001b[A\n",
            " 91%|█████████ | 130/143 [01:45<00:10,  1.24it/s, loss=0.301]\u001b[A\n",
            " 92%|█████████▏| 131/143 [01:45<00:09,  1.25it/s, loss=0.301]\u001b[A\n",
            " 92%|█████████▏| 131/143 [01:45<00:09,  1.24it/s, loss=0.302]\u001b[A\n",
            " 92%|█████████▏| 132/143 [01:45<00:08,  1.25it/s, loss=0.302]\u001b[A\n",
            " 92%|█████████▏| 132/143 [01:46<00:08,  1.24it/s, loss=0.3]  \u001b[A\n",
            " 93%|█████████▎| 133/143 [01:46<00:07,  1.25it/s, loss=0.3]\u001b[A\n",
            " 93%|█████████▎| 133/143 [01:47<00:08,  1.24it/s, loss=0.299]\u001b[A\n",
            " 94%|█████████▎| 134/143 [01:47<00:07,  1.25it/s, loss=0.299]\u001b[A\n",
            " 94%|█████████▎| 134/143 [01:47<00:07,  1.24it/s, loss=0.305]\u001b[A\n",
            " 94%|█████████▍| 135/143 [01:47<00:06,  1.25it/s, loss=0.305]\u001b[A\n",
            " 94%|█████████▍| 135/143 [01:48<00:06,  1.25it/s, loss=0.304]\u001b[A\n",
            " 95%|█████████▌| 136/143 [01:48<00:05,  1.26it/s, loss=0.304]\u001b[A\n",
            " 95%|█████████▌| 136/143 [01:49<00:05,  1.25it/s, loss=0.302]\u001b[A\n",
            " 96%|█████████▌| 137/143 [01:49<00:04,  1.26it/s, loss=0.302]\u001b[A\n",
            " 96%|█████████▌| 137/143 [01:49<00:04,  1.25it/s, loss=0.298]\u001b[A\n",
            " 97%|█████████▋| 138/143 [01:49<00:03,  1.26it/s, loss=0.298]\u001b[A\n",
            " 97%|█████████▋| 138/143 [01:50<00:03,  1.25it/s, loss=0.293]\u001b[A\n",
            " 97%|█████████▋| 139/143 [01:50<00:03,  1.26it/s, loss=0.293]\u001b[A\n",
            " 97%|█████████▋| 139/143 [01:50<00:03,  1.25it/s, loss=0.292]\u001b[A\n",
            " 98%|█████████▊| 140/143 [01:50<00:02,  1.26it/s, loss=0.292]\u001b[A\n",
            " 98%|█████████▊| 140/143 [01:51<00:02,  1.25it/s, loss=0.289]\u001b[A\n",
            " 99%|█████████▊| 141/143 [01:51<00:01,  1.26it/s, loss=0.289]\u001b[A\n",
            " 99%|█████████▊| 141/143 [01:52<00:01,  1.26it/s, loss=0.286]\u001b[A\n",
            " 99%|█████████▉| 142/143 [01:52<00:00,  1.26it/s, loss=0.286]\u001b[A\n",
            " 99%|█████████▉| 142/143 [01:52<00:00,  1.26it/s, loss=0.305]\u001b[A\n",
            "100%|██████████| 143/143 [01:52<00:00,  1.27it/s, loss=0.305]\u001b[A\n",
            "                                                             \u001b[A[0.      0.3053  0.18692 0.9375 ]\n",
            "\n"
          ],
          "name": "stdout"
        }
      ]
    },
    {
      "cell_type": "code",
      "metadata": {
        "id": "wcTypieRFIss",
        "colab_type": "code",
        "colab": {}
      },
      "source": [
        "learn.precompute=False"
      ],
      "execution_count": null,
      "outputs": []
    },
    {
      "cell_type": "markdown",
      "metadata": {
        "id": "E5z0kU7iFIsy",
        "colab_type": "text"
      },
      "source": [
        "By default when we create a learner, it sets all but the last layer to *frozen*. That means that it's still only updating the weights in the last layer when we call `fit`."
      ]
    },
    {
      "cell_type": "code",
      "metadata": {
        "id": "AsQuiJ9FFIsz",
        "colab_type": "code",
        "colab": {
          "base_uri": "https://localhost:8080/",
          "height": 2911,
          "referenced_widgets": [
            "58c1780f93b9409ba89afc990d488c1b"
          ]
        },
        "outputId": "28a5649b-81ba-4d6c-9431-0bd4e2ccb61f"
      },
      "source": [
        "learn.fit(1e-2, 3, cycle_len=3, cycle_mult=3)"
      ],
      "execution_count": null,
      "outputs": [
        {
          "output_type": "display_data",
          "data": {
            "application/vnd.jupyter.widget-view+json": {
              "model_id": "58c1780f93b9409ba89afc990d488c1b",
              "version_minor": 0,
              "version_major": 2
            },
            "text/html": [
              "<p>Failed to display Jupyter Widget of type <code>HBox</code>.</p>\n",
              "<p>\n",
              "  If you're reading this message in the Jupyter Notebook or JupyterLab Notebook, it may mean\n",
              "  that the widgets JavaScript is still loading. If this message persists, it\n",
              "  likely means that the widgets JavaScript library is either not installed or\n",
              "  not enabled. See the <a href=\"https://ipywidgets.readthedocs.io/en/stable/user_install.html\">Jupyter\n",
              "  Widgets Documentation</a> for setup instructions.\n",
              "</p>\n",
              "<p>\n",
              "  If you're reading this message in another frontend (for example, a static\n",
              "  rendering on GitHub or <a href=\"https://nbviewer.jupyter.org/\">NBViewer</a>),\n",
              "  it may mean that your frontend doesn't currently support widgets.\n",
              "</p>\n"
            ],
            "text/plain": [
              "HBox(children=(IntProgress(value=0, description='Epoch', max=39), HTML(value='')))"
            ]
          },
          "metadata": {
            "tags": []
          }
        },
        {
          "output_type": "stream",
          "text": [
            "\n",
            "\n",
            "  0%|          | 0/143 [00:00<?, ?it/s]\u001b[A\u001b[A"
          ],
          "name": "stdout"
        },
        {
          "output_type": "stream",
          "text": [
            "Exception ignored in: <generator object DataLoader.__iter__ at 0x7f5581dd4990>\n",
            "Traceback (most recent call last):\n",
            "  File \"/usr/local/lib/python3.6/dist-packages/fastai/dataloader.py\", line 67, in __iter__\n",
            "    yield get_tensor(batch, self.pin_memory)\n",
            "  File \"/usr/lib/python3.6/concurrent/futures/_base.py\", line 611, in __exit__\n",
            "    self.shutdown(wait=True)\n",
            "  File \"/usr/lib/python3.6/concurrent/futures/thread.py\", line 152, in shutdown\n",
            "    t.join()\n",
            "  File \"/usr/lib/python3.6/threading.py\", line 1056, in join\n",
            "    self._wait_for_tstate_lock()\n",
            "  File \"/usr/lib/python3.6/threading.py\", line 1072, in _wait_for_tstate_lock\n",
            "    elif lock.acquire(block, timeout):\n",
            "KeyboardInterrupt: \n"
          ],
          "name": "stderr"
        },
        {
          "output_type": "error",
          "ename": "KeyboardInterrupt",
          "evalue": "ignored",
          "traceback": [
            "\u001b[0;31m---------------------------------------------------------------------------\u001b[0m",
            "\u001b[0;31mKeyboardInterrupt\u001b[0m                         Traceback (most recent call last)",
            "\u001b[0;32m<ipython-input-81-33959541d21b>\u001b[0m in \u001b[0;36m<module>\u001b[0;34m()\u001b[0m\n\u001b[0;32m----> 1\u001b[0;31m \u001b[0mlearn\u001b[0m\u001b[0;34m.\u001b[0m\u001b[0mfit\u001b[0m\u001b[0;34m(\u001b[0m\u001b[0;36m1e-2\u001b[0m\u001b[0;34m,\u001b[0m \u001b[0;36m3\u001b[0m\u001b[0;34m,\u001b[0m \u001b[0mcycle_len\u001b[0m\u001b[0;34m=\u001b[0m\u001b[0;36m3\u001b[0m\u001b[0;34m,\u001b[0m \u001b[0mcycle_mult\u001b[0m\u001b[0;34m=\u001b[0m\u001b[0;36m3\u001b[0m\u001b[0;34m)\u001b[0m\u001b[0;34m\u001b[0m\u001b[0m\n\u001b[0m",
            "\u001b[0;32m/usr/local/lib/python3.6/dist-packages/fastai/learner.py\u001b[0m in \u001b[0;36mfit\u001b[0;34m(self, lrs, n_cycle, wds, **kwargs)\u001b[0m\n\u001b[1;32m     97\u001b[0m         \u001b[0mself\u001b[0m\u001b[0;34m.\u001b[0m\u001b[0msched\u001b[0m \u001b[0;34m=\u001b[0m \u001b[0;32mNone\u001b[0m\u001b[0;34m\u001b[0m\u001b[0m\n\u001b[1;32m     98\u001b[0m         \u001b[0mlayer_opt\u001b[0m \u001b[0;34m=\u001b[0m \u001b[0mself\u001b[0m\u001b[0;34m.\u001b[0m\u001b[0mget_layer_opt\u001b[0m\u001b[0;34m(\u001b[0m\u001b[0mlrs\u001b[0m\u001b[0;34m,\u001b[0m \u001b[0mwds\u001b[0m\u001b[0;34m)\u001b[0m\u001b[0;34m\u001b[0m\u001b[0m\n\u001b[0;32m---> 99\u001b[0;31m         \u001b[0mself\u001b[0m\u001b[0;34m.\u001b[0m\u001b[0mfit_gen\u001b[0m\u001b[0;34m(\u001b[0m\u001b[0mself\u001b[0m\u001b[0;34m.\u001b[0m\u001b[0mmodel\u001b[0m\u001b[0;34m,\u001b[0m \u001b[0mself\u001b[0m\u001b[0;34m.\u001b[0m\u001b[0mdata\u001b[0m\u001b[0;34m,\u001b[0m \u001b[0mlayer_opt\u001b[0m\u001b[0;34m,\u001b[0m \u001b[0mn_cycle\u001b[0m\u001b[0;34m,\u001b[0m \u001b[0;34m**\u001b[0m\u001b[0mkwargs\u001b[0m\u001b[0;34m)\u001b[0m\u001b[0;34m\u001b[0m\u001b[0m\n\u001b[0m\u001b[1;32m    100\u001b[0m \u001b[0;34m\u001b[0m\u001b[0m\n\u001b[1;32m    101\u001b[0m     \u001b[0;32mdef\u001b[0m \u001b[0mlr_find\u001b[0m\u001b[0;34m(\u001b[0m\u001b[0mself\u001b[0m\u001b[0;34m,\u001b[0m \u001b[0mstart_lr\u001b[0m\u001b[0;34m=\u001b[0m\u001b[0;36m1e-5\u001b[0m\u001b[0;34m,\u001b[0m \u001b[0mend_lr\u001b[0m\u001b[0;34m=\u001b[0m\u001b[0;36m10\u001b[0m\u001b[0;34m,\u001b[0m \u001b[0mwds\u001b[0m\u001b[0;34m=\u001b[0m\u001b[0;32mNone\u001b[0m\u001b[0;34m)\u001b[0m\u001b[0;34m:\u001b[0m\u001b[0;34m\u001b[0m\u001b[0m\n",
            "\u001b[0;32m/usr/local/lib/python3.6/dist-packages/fastai/learner.py\u001b[0m in \u001b[0;36mfit_gen\u001b[0;34m(self, model, data, layer_opt, n_cycle, cycle_len, cycle_mult, cycle_save_name, metrics, callbacks, **kwargs)\u001b[0m\n\u001b[1;32m     87\u001b[0m         \u001b[0mn_epoch\u001b[0m \u001b[0;34m=\u001b[0m \u001b[0msum_geom\u001b[0m\u001b[0;34m(\u001b[0m\u001b[0mcycle_len\u001b[0m \u001b[0;32mif\u001b[0m \u001b[0mcycle_len\u001b[0m \u001b[0;32melse\u001b[0m \u001b[0;36m1\u001b[0m\u001b[0;34m,\u001b[0m \u001b[0mcycle_mult\u001b[0m\u001b[0;34m,\u001b[0m \u001b[0mn_cycle\u001b[0m\u001b[0;34m)\u001b[0m\u001b[0;34m\u001b[0m\u001b[0m\n\u001b[1;32m     88\u001b[0m         fit(model, data, n_epoch, layer_opt.opt, self.crit,\n\u001b[0;32m---> 89\u001b[0;31m             metrics=metrics, callbacks=callbacks, reg_fn=self.reg_fn, clip=self.clip, **kwargs)\n\u001b[0m\u001b[1;32m     90\u001b[0m \u001b[0;34m\u001b[0m\u001b[0m\n\u001b[1;32m     91\u001b[0m     \u001b[0;32mdef\u001b[0m \u001b[0mget_layer_groups\u001b[0m\u001b[0;34m(\u001b[0m\u001b[0mself\u001b[0m\u001b[0;34m)\u001b[0m\u001b[0;34m:\u001b[0m \u001b[0;32mreturn\u001b[0m \u001b[0mself\u001b[0m\u001b[0;34m.\u001b[0m\u001b[0mmodels\u001b[0m\u001b[0;34m.\u001b[0m\u001b[0mget_layer_groups\u001b[0m\u001b[0;34m(\u001b[0m\u001b[0;34m)\u001b[0m\u001b[0;34m\u001b[0m\u001b[0m\n",
            "\u001b[0;32m/usr/local/lib/python3.6/dist-packages/fastai/model.py\u001b[0m in \u001b[0;36mfit\u001b[0;34m(model, data, epochs, opt, crit, metrics, callbacks, **kwargs)\u001b[0m\n\u001b[1;32m     82\u001b[0m         \u001b[0;32mfor\u001b[0m \u001b[0;34m(\u001b[0m\u001b[0;34m*\u001b[0m\u001b[0mx\u001b[0m\u001b[0;34m,\u001b[0m\u001b[0my\u001b[0m\u001b[0;34m)\u001b[0m \u001b[0;32min\u001b[0m \u001b[0mt\u001b[0m\u001b[0;34m:\u001b[0m\u001b[0;34m\u001b[0m\u001b[0m\n\u001b[1;32m     83\u001b[0m             \u001b[0mbatch_num\u001b[0m \u001b[0;34m+=\u001b[0m \u001b[0;36m1\u001b[0m\u001b[0;34m\u001b[0m\u001b[0m\n\u001b[0;32m---> 84\u001b[0;31m             \u001b[0mloss\u001b[0m \u001b[0;34m=\u001b[0m \u001b[0mstepper\u001b[0m\u001b[0;34m.\u001b[0m\u001b[0mstep\u001b[0m\u001b[0;34m(\u001b[0m\u001b[0mV\u001b[0m\u001b[0;34m(\u001b[0m\u001b[0mx\u001b[0m\u001b[0;34m)\u001b[0m\u001b[0;34m,\u001b[0m\u001b[0mV\u001b[0m\u001b[0;34m(\u001b[0m\u001b[0my\u001b[0m\u001b[0;34m)\u001b[0m\u001b[0;34m)\u001b[0m\u001b[0;34m\u001b[0m\u001b[0m\n\u001b[0m\u001b[1;32m     85\u001b[0m             \u001b[0mavg_loss\u001b[0m \u001b[0;34m=\u001b[0m \u001b[0mavg_loss\u001b[0m \u001b[0;34m*\u001b[0m \u001b[0mavg_mom\u001b[0m \u001b[0;34m+\u001b[0m \u001b[0mloss\u001b[0m \u001b[0;34m*\u001b[0m \u001b[0;34m(\u001b[0m\u001b[0;36m1\u001b[0m\u001b[0;34m-\u001b[0m\u001b[0mavg_mom\u001b[0m\u001b[0;34m)\u001b[0m\u001b[0;34m\u001b[0m\u001b[0m\n\u001b[1;32m     86\u001b[0m             \u001b[0mdebias_loss\u001b[0m \u001b[0;34m=\u001b[0m \u001b[0mavg_loss\u001b[0m \u001b[0;34m/\u001b[0m \u001b[0;34m(\u001b[0m\u001b[0;36m1\u001b[0m \u001b[0;34m-\u001b[0m \u001b[0mavg_mom\u001b[0m\u001b[0;34m**\u001b[0m\u001b[0mbatch_num\u001b[0m\u001b[0;34m)\u001b[0m\u001b[0;34m\u001b[0m\u001b[0m\n",
            "\u001b[0;32m/usr/local/lib/python3.6/dist-packages/fastai/model.py\u001b[0m in \u001b[0;36mstep\u001b[0;34m(self, xs, y)\u001b[0m\n\u001b[1;32m     38\u001b[0m     \u001b[0;32mdef\u001b[0m \u001b[0mstep\u001b[0m\u001b[0;34m(\u001b[0m\u001b[0mself\u001b[0m\u001b[0;34m,\u001b[0m \u001b[0mxs\u001b[0m\u001b[0;34m,\u001b[0m \u001b[0my\u001b[0m\u001b[0;34m)\u001b[0m\u001b[0;34m:\u001b[0m\u001b[0;34m\u001b[0m\u001b[0m\n\u001b[1;32m     39\u001b[0m         \u001b[0mxtra\u001b[0m \u001b[0;34m=\u001b[0m \u001b[0;34m[\u001b[0m\u001b[0;34m]\u001b[0m\u001b[0;34m\u001b[0m\u001b[0m\n\u001b[0;32m---> 40\u001b[0;31m         \u001b[0moutput\u001b[0m \u001b[0;34m=\u001b[0m \u001b[0mself\u001b[0m\u001b[0;34m.\u001b[0m\u001b[0mm\u001b[0m\u001b[0;34m(\u001b[0m\u001b[0;34m*\u001b[0m\u001b[0mxs\u001b[0m\u001b[0;34m)\u001b[0m\u001b[0;34m\u001b[0m\u001b[0m\n\u001b[0m\u001b[1;32m     41\u001b[0m         \u001b[0;32mif\u001b[0m \u001b[0misinstance\u001b[0m\u001b[0;34m(\u001b[0m\u001b[0moutput\u001b[0m\u001b[0;34m,\u001b[0m\u001b[0;34m(\u001b[0m\u001b[0mtuple\u001b[0m\u001b[0;34m,\u001b[0m\u001b[0mlist\u001b[0m\u001b[0;34m)\u001b[0m\u001b[0;34m)\u001b[0m\u001b[0;34m:\u001b[0m \u001b[0moutput\u001b[0m\u001b[0;34m,\u001b[0m\u001b[0;34m*\u001b[0m\u001b[0mxtra\u001b[0m \u001b[0;34m=\u001b[0m \u001b[0moutput\u001b[0m\u001b[0;34m\u001b[0m\u001b[0m\n\u001b[1;32m     42\u001b[0m         \u001b[0mself\u001b[0m\u001b[0;34m.\u001b[0m\u001b[0mopt\u001b[0m\u001b[0;34m.\u001b[0m\u001b[0mzero_grad\u001b[0m\u001b[0;34m(\u001b[0m\u001b[0;34m)\u001b[0m\u001b[0;34m\u001b[0m\u001b[0m\n",
            "\u001b[0;32m/usr/local/lib/python3.6/dist-packages/torch/nn/modules/module.py\u001b[0m in \u001b[0;36m__call__\u001b[0;34m(self, *input, **kwargs)\u001b[0m\n\u001b[1;32m    323\u001b[0m         \u001b[0;32mfor\u001b[0m \u001b[0mhook\u001b[0m \u001b[0;32min\u001b[0m \u001b[0mself\u001b[0m\u001b[0;34m.\u001b[0m\u001b[0m_forward_pre_hooks\u001b[0m\u001b[0;34m.\u001b[0m\u001b[0mvalues\u001b[0m\u001b[0;34m(\u001b[0m\u001b[0;34m)\u001b[0m\u001b[0;34m:\u001b[0m\u001b[0;34m\u001b[0m\u001b[0m\n\u001b[1;32m    324\u001b[0m             \u001b[0mhook\u001b[0m\u001b[0;34m(\u001b[0m\u001b[0mself\u001b[0m\u001b[0;34m,\u001b[0m \u001b[0minput\u001b[0m\u001b[0;34m)\u001b[0m\u001b[0;34m\u001b[0m\u001b[0m\n\u001b[0;32m--> 325\u001b[0;31m         \u001b[0mresult\u001b[0m \u001b[0;34m=\u001b[0m \u001b[0mself\u001b[0m\u001b[0;34m.\u001b[0m\u001b[0mforward\u001b[0m\u001b[0;34m(\u001b[0m\u001b[0;34m*\u001b[0m\u001b[0minput\u001b[0m\u001b[0;34m,\u001b[0m \u001b[0;34m**\u001b[0m\u001b[0mkwargs\u001b[0m\u001b[0;34m)\u001b[0m\u001b[0;34m\u001b[0m\u001b[0m\n\u001b[0m\u001b[1;32m    326\u001b[0m         \u001b[0;32mfor\u001b[0m \u001b[0mhook\u001b[0m \u001b[0;32min\u001b[0m \u001b[0mself\u001b[0m\u001b[0;34m.\u001b[0m\u001b[0m_forward_hooks\u001b[0m\u001b[0;34m.\u001b[0m\u001b[0mvalues\u001b[0m\u001b[0;34m(\u001b[0m\u001b[0;34m)\u001b[0m\u001b[0;34m:\u001b[0m\u001b[0;34m\u001b[0m\u001b[0m\n\u001b[1;32m    327\u001b[0m             \u001b[0mhook_result\u001b[0m \u001b[0;34m=\u001b[0m \u001b[0mhook\u001b[0m\u001b[0;34m(\u001b[0m\u001b[0mself\u001b[0m\u001b[0;34m,\u001b[0m \u001b[0minput\u001b[0m\u001b[0;34m,\u001b[0m \u001b[0mresult\u001b[0m\u001b[0;34m)\u001b[0m\u001b[0;34m\u001b[0m\u001b[0m\n",
            "\u001b[0;32m/usr/local/lib/python3.6/dist-packages/torch/nn/modules/container.py\u001b[0m in \u001b[0;36mforward\u001b[0;34m(self, input)\u001b[0m\n\u001b[1;32m     65\u001b[0m     \u001b[0;32mdef\u001b[0m \u001b[0mforward\u001b[0m\u001b[0;34m(\u001b[0m\u001b[0mself\u001b[0m\u001b[0;34m,\u001b[0m \u001b[0minput\u001b[0m\u001b[0;34m)\u001b[0m\u001b[0;34m:\u001b[0m\u001b[0;34m\u001b[0m\u001b[0m\n\u001b[1;32m     66\u001b[0m         \u001b[0;32mfor\u001b[0m \u001b[0mmodule\u001b[0m \u001b[0;32min\u001b[0m \u001b[0mself\u001b[0m\u001b[0;34m.\u001b[0m\u001b[0m_modules\u001b[0m\u001b[0;34m.\u001b[0m\u001b[0mvalues\u001b[0m\u001b[0;34m(\u001b[0m\u001b[0;34m)\u001b[0m\u001b[0;34m:\u001b[0m\u001b[0;34m\u001b[0m\u001b[0m\n\u001b[0;32m---> 67\u001b[0;31m             \u001b[0minput\u001b[0m \u001b[0;34m=\u001b[0m \u001b[0mmodule\u001b[0m\u001b[0;34m(\u001b[0m\u001b[0minput\u001b[0m\u001b[0;34m)\u001b[0m\u001b[0;34m\u001b[0m\u001b[0m\n\u001b[0m\u001b[1;32m     68\u001b[0m         \u001b[0;32mreturn\u001b[0m \u001b[0minput\u001b[0m\u001b[0;34m\u001b[0m\u001b[0m\n\u001b[1;32m     69\u001b[0m \u001b[0;34m\u001b[0m\u001b[0m\n",
            "\u001b[0;32m/usr/local/lib/python3.6/dist-packages/torch/nn/modules/module.py\u001b[0m in \u001b[0;36m__call__\u001b[0;34m(self, *input, **kwargs)\u001b[0m\n\u001b[1;32m    323\u001b[0m         \u001b[0;32mfor\u001b[0m \u001b[0mhook\u001b[0m \u001b[0;32min\u001b[0m \u001b[0mself\u001b[0m\u001b[0;34m.\u001b[0m\u001b[0m_forward_pre_hooks\u001b[0m\u001b[0;34m.\u001b[0m\u001b[0mvalues\u001b[0m\u001b[0;34m(\u001b[0m\u001b[0;34m)\u001b[0m\u001b[0;34m:\u001b[0m\u001b[0;34m\u001b[0m\u001b[0m\n\u001b[1;32m    324\u001b[0m             \u001b[0mhook\u001b[0m\u001b[0;34m(\u001b[0m\u001b[0mself\u001b[0m\u001b[0;34m,\u001b[0m \u001b[0minput\u001b[0m\u001b[0;34m)\u001b[0m\u001b[0;34m\u001b[0m\u001b[0m\n\u001b[0;32m--> 325\u001b[0;31m         \u001b[0mresult\u001b[0m \u001b[0;34m=\u001b[0m \u001b[0mself\u001b[0m\u001b[0;34m.\u001b[0m\u001b[0mforward\u001b[0m\u001b[0;34m(\u001b[0m\u001b[0;34m*\u001b[0m\u001b[0minput\u001b[0m\u001b[0;34m,\u001b[0m \u001b[0;34m**\u001b[0m\u001b[0mkwargs\u001b[0m\u001b[0;34m)\u001b[0m\u001b[0;34m\u001b[0m\u001b[0m\n\u001b[0m\u001b[1;32m    326\u001b[0m         \u001b[0;32mfor\u001b[0m \u001b[0mhook\u001b[0m \u001b[0;32min\u001b[0m \u001b[0mself\u001b[0m\u001b[0;34m.\u001b[0m\u001b[0m_forward_hooks\u001b[0m\u001b[0;34m.\u001b[0m\u001b[0mvalues\u001b[0m\u001b[0;34m(\u001b[0m\u001b[0;34m)\u001b[0m\u001b[0;34m:\u001b[0m\u001b[0;34m\u001b[0m\u001b[0m\n\u001b[1;32m    327\u001b[0m             \u001b[0mhook_result\u001b[0m \u001b[0;34m=\u001b[0m \u001b[0mhook\u001b[0m\u001b[0;34m(\u001b[0m\u001b[0mself\u001b[0m\u001b[0;34m,\u001b[0m \u001b[0minput\u001b[0m\u001b[0;34m,\u001b[0m \u001b[0mresult\u001b[0m\u001b[0;34m)\u001b[0m\u001b[0;34m\u001b[0m\u001b[0m\n",
            "\u001b[0;32m/usr/local/lib/python3.6/dist-packages/torch/nn/modules/container.py\u001b[0m in \u001b[0;36mforward\u001b[0;34m(self, input)\u001b[0m\n\u001b[1;32m     65\u001b[0m     \u001b[0;32mdef\u001b[0m \u001b[0mforward\u001b[0m\u001b[0;34m(\u001b[0m\u001b[0mself\u001b[0m\u001b[0;34m,\u001b[0m \u001b[0minput\u001b[0m\u001b[0;34m)\u001b[0m\u001b[0;34m:\u001b[0m\u001b[0;34m\u001b[0m\u001b[0m\n\u001b[1;32m     66\u001b[0m         \u001b[0;32mfor\u001b[0m \u001b[0mmodule\u001b[0m \u001b[0;32min\u001b[0m \u001b[0mself\u001b[0m\u001b[0;34m.\u001b[0m\u001b[0m_modules\u001b[0m\u001b[0;34m.\u001b[0m\u001b[0mvalues\u001b[0m\u001b[0;34m(\u001b[0m\u001b[0;34m)\u001b[0m\u001b[0;34m:\u001b[0m\u001b[0;34m\u001b[0m\u001b[0m\n\u001b[0;32m---> 67\u001b[0;31m             \u001b[0minput\u001b[0m \u001b[0;34m=\u001b[0m \u001b[0mmodule\u001b[0m\u001b[0;34m(\u001b[0m\u001b[0minput\u001b[0m\u001b[0;34m)\u001b[0m\u001b[0;34m\u001b[0m\u001b[0m\n\u001b[0m\u001b[1;32m     68\u001b[0m         \u001b[0;32mreturn\u001b[0m \u001b[0minput\u001b[0m\u001b[0;34m\u001b[0m\u001b[0m\n\u001b[1;32m     69\u001b[0m \u001b[0;34m\u001b[0m\u001b[0m\n",
            "\u001b[0;32m/usr/local/lib/python3.6/dist-packages/torch/nn/modules/module.py\u001b[0m in \u001b[0;36m__call__\u001b[0;34m(self, *input, **kwargs)\u001b[0m\n\u001b[1;32m    323\u001b[0m         \u001b[0;32mfor\u001b[0m \u001b[0mhook\u001b[0m \u001b[0;32min\u001b[0m \u001b[0mself\u001b[0m\u001b[0;34m.\u001b[0m\u001b[0m_forward_pre_hooks\u001b[0m\u001b[0;34m.\u001b[0m\u001b[0mvalues\u001b[0m\u001b[0;34m(\u001b[0m\u001b[0;34m)\u001b[0m\u001b[0;34m:\u001b[0m\u001b[0;34m\u001b[0m\u001b[0m\n\u001b[1;32m    324\u001b[0m             \u001b[0mhook\u001b[0m\u001b[0;34m(\u001b[0m\u001b[0mself\u001b[0m\u001b[0;34m,\u001b[0m \u001b[0minput\u001b[0m\u001b[0;34m)\u001b[0m\u001b[0;34m\u001b[0m\u001b[0m\n\u001b[0;32m--> 325\u001b[0;31m         \u001b[0mresult\u001b[0m \u001b[0;34m=\u001b[0m \u001b[0mself\u001b[0m\u001b[0;34m.\u001b[0m\u001b[0mforward\u001b[0m\u001b[0;34m(\u001b[0m\u001b[0;34m*\u001b[0m\u001b[0minput\u001b[0m\u001b[0;34m,\u001b[0m \u001b[0;34m**\u001b[0m\u001b[0mkwargs\u001b[0m\u001b[0;34m)\u001b[0m\u001b[0;34m\u001b[0m\u001b[0m\n\u001b[0m\u001b[1;32m    326\u001b[0m         \u001b[0;32mfor\u001b[0m \u001b[0mhook\u001b[0m \u001b[0;32min\u001b[0m \u001b[0mself\u001b[0m\u001b[0;34m.\u001b[0m\u001b[0m_forward_hooks\u001b[0m\u001b[0;34m.\u001b[0m\u001b[0mvalues\u001b[0m\u001b[0;34m(\u001b[0m\u001b[0;34m)\u001b[0m\u001b[0;34m:\u001b[0m\u001b[0;34m\u001b[0m\u001b[0m\n\u001b[1;32m    327\u001b[0m             \u001b[0mhook_result\u001b[0m \u001b[0;34m=\u001b[0m \u001b[0mhook\u001b[0m\u001b[0;34m(\u001b[0m\u001b[0mself\u001b[0m\u001b[0;34m,\u001b[0m \u001b[0minput\u001b[0m\u001b[0;34m,\u001b[0m \u001b[0mresult\u001b[0m\u001b[0;34m)\u001b[0m\u001b[0;34m\u001b[0m\u001b[0m\n",
            "\u001b[0;32m/usr/local/lib/python3.6/dist-packages/torch/nn/modules/container.py\u001b[0m in \u001b[0;36mforward\u001b[0;34m(self, input)\u001b[0m\n\u001b[1;32m     65\u001b[0m     \u001b[0;32mdef\u001b[0m \u001b[0mforward\u001b[0m\u001b[0;34m(\u001b[0m\u001b[0mself\u001b[0m\u001b[0;34m,\u001b[0m \u001b[0minput\u001b[0m\u001b[0;34m)\u001b[0m\u001b[0;34m:\u001b[0m\u001b[0;34m\u001b[0m\u001b[0m\n\u001b[1;32m     66\u001b[0m         \u001b[0;32mfor\u001b[0m \u001b[0mmodule\u001b[0m \u001b[0;32min\u001b[0m \u001b[0mself\u001b[0m\u001b[0;34m.\u001b[0m\u001b[0m_modules\u001b[0m\u001b[0;34m.\u001b[0m\u001b[0mvalues\u001b[0m\u001b[0;34m(\u001b[0m\u001b[0;34m)\u001b[0m\u001b[0;34m:\u001b[0m\u001b[0;34m\u001b[0m\u001b[0m\n\u001b[0;32m---> 67\u001b[0;31m             \u001b[0minput\u001b[0m \u001b[0;34m=\u001b[0m \u001b[0mmodule\u001b[0m\u001b[0;34m(\u001b[0m\u001b[0minput\u001b[0m\u001b[0;34m)\u001b[0m\u001b[0;34m\u001b[0m\u001b[0m\n\u001b[0m\u001b[1;32m     68\u001b[0m         \u001b[0;32mreturn\u001b[0m \u001b[0minput\u001b[0m\u001b[0;34m\u001b[0m\u001b[0m\n\u001b[1;32m     69\u001b[0m \u001b[0;34m\u001b[0m\u001b[0m\n",
            "\u001b[0;32m/usr/local/lib/python3.6/dist-packages/torch/nn/modules/module.py\u001b[0m in \u001b[0;36m__call__\u001b[0;34m(self, *input, **kwargs)\u001b[0m\n\u001b[1;32m    323\u001b[0m         \u001b[0;32mfor\u001b[0m \u001b[0mhook\u001b[0m \u001b[0;32min\u001b[0m \u001b[0mself\u001b[0m\u001b[0;34m.\u001b[0m\u001b[0m_forward_pre_hooks\u001b[0m\u001b[0;34m.\u001b[0m\u001b[0mvalues\u001b[0m\u001b[0;34m(\u001b[0m\u001b[0;34m)\u001b[0m\u001b[0;34m:\u001b[0m\u001b[0;34m\u001b[0m\u001b[0m\n\u001b[1;32m    324\u001b[0m             \u001b[0mhook\u001b[0m\u001b[0;34m(\u001b[0m\u001b[0mself\u001b[0m\u001b[0;34m,\u001b[0m \u001b[0minput\u001b[0m\u001b[0;34m)\u001b[0m\u001b[0;34m\u001b[0m\u001b[0m\n\u001b[0;32m--> 325\u001b[0;31m         \u001b[0mresult\u001b[0m \u001b[0;34m=\u001b[0m \u001b[0mself\u001b[0m\u001b[0;34m.\u001b[0m\u001b[0mforward\u001b[0m\u001b[0;34m(\u001b[0m\u001b[0;34m*\u001b[0m\u001b[0minput\u001b[0m\u001b[0;34m,\u001b[0m \u001b[0;34m**\u001b[0m\u001b[0mkwargs\u001b[0m\u001b[0;34m)\u001b[0m\u001b[0;34m\u001b[0m\u001b[0m\n\u001b[0m\u001b[1;32m    326\u001b[0m         \u001b[0;32mfor\u001b[0m \u001b[0mhook\u001b[0m \u001b[0;32min\u001b[0m \u001b[0mself\u001b[0m\u001b[0;34m.\u001b[0m\u001b[0m_forward_hooks\u001b[0m\u001b[0;34m.\u001b[0m\u001b[0mvalues\u001b[0m\u001b[0;34m(\u001b[0m\u001b[0;34m)\u001b[0m\u001b[0;34m:\u001b[0m\u001b[0;34m\u001b[0m\u001b[0m\n\u001b[1;32m    327\u001b[0m             \u001b[0mhook_result\u001b[0m \u001b[0;34m=\u001b[0m \u001b[0mhook\u001b[0m\u001b[0;34m(\u001b[0m\u001b[0mself\u001b[0m\u001b[0;34m,\u001b[0m \u001b[0minput\u001b[0m\u001b[0;34m,\u001b[0m \u001b[0mresult\u001b[0m\u001b[0;34m)\u001b[0m\u001b[0;34m\u001b[0m\u001b[0m\n",
            "\u001b[0;32m/usr/local/lib/python3.6/dist-packages/fastai/models/resnext_50_32x4d.py\u001b[0m in \u001b[0;36mforward\u001b[0;34m(self, input)\u001b[0m\n\u001b[1;32m     22\u001b[0m \u001b[0;32mclass\u001b[0m \u001b[0mLambdaMap\u001b[0m\u001b[0;34m(\u001b[0m\u001b[0mLambdaBase\u001b[0m\u001b[0;34m)\u001b[0m\u001b[0;34m:\u001b[0m\u001b[0;34m\u001b[0m\u001b[0m\n\u001b[1;32m     23\u001b[0m     \u001b[0;32mdef\u001b[0m \u001b[0mforward\u001b[0m\u001b[0;34m(\u001b[0m\u001b[0mself\u001b[0m\u001b[0;34m,\u001b[0m \u001b[0minput\u001b[0m\u001b[0;34m)\u001b[0m\u001b[0;34m:\u001b[0m\u001b[0;34m\u001b[0m\u001b[0m\n\u001b[0;32m---> 24\u001b[0;31m         \u001b[0;32mreturn\u001b[0m \u001b[0mlist\u001b[0m\u001b[0;34m(\u001b[0m\u001b[0mmap\u001b[0m\u001b[0;34m(\u001b[0m\u001b[0mself\u001b[0m\u001b[0;34m.\u001b[0m\u001b[0mlambda_func\u001b[0m\u001b[0;34m,\u001b[0m\u001b[0mself\u001b[0m\u001b[0;34m.\u001b[0m\u001b[0mforward_prepare\u001b[0m\u001b[0;34m(\u001b[0m\u001b[0minput\u001b[0m\u001b[0;34m)\u001b[0m\u001b[0;34m)\u001b[0m\u001b[0;34m)\u001b[0m\u001b[0;34m\u001b[0m\u001b[0m\n\u001b[0m\u001b[1;32m     25\u001b[0m \u001b[0;34m\u001b[0m\u001b[0m\n\u001b[1;32m     26\u001b[0m \u001b[0;32mclass\u001b[0m \u001b[0mLambdaReduce\u001b[0m\u001b[0;34m(\u001b[0m\u001b[0mLambdaBase\u001b[0m\u001b[0;34m)\u001b[0m\u001b[0;34m:\u001b[0m\u001b[0;34m\u001b[0m\u001b[0m\n",
            "\u001b[0;32m/usr/local/lib/python3.6/dist-packages/fastai/models/resnext_50_32x4d.py\u001b[0m in \u001b[0;36mforward_prepare\u001b[0;34m(self, input)\u001b[0m\n\u001b[1;32m     13\u001b[0m         \u001b[0moutput\u001b[0m \u001b[0;34m=\u001b[0m \u001b[0;34m[\u001b[0m\u001b[0;34m]\u001b[0m\u001b[0;34m\u001b[0m\u001b[0m\n\u001b[1;32m     14\u001b[0m         \u001b[0;32mfor\u001b[0m \u001b[0mmodule\u001b[0m \u001b[0;32min\u001b[0m \u001b[0mself\u001b[0m\u001b[0;34m.\u001b[0m\u001b[0m_modules\u001b[0m\u001b[0;34m.\u001b[0m\u001b[0mvalues\u001b[0m\u001b[0;34m(\u001b[0m\u001b[0;34m)\u001b[0m\u001b[0;34m:\u001b[0m\u001b[0;34m\u001b[0m\u001b[0m\n\u001b[0;32m---> 15\u001b[0;31m             \u001b[0moutput\u001b[0m\u001b[0;34m.\u001b[0m\u001b[0mappend\u001b[0m\u001b[0;34m(\u001b[0m\u001b[0mmodule\u001b[0m\u001b[0;34m(\u001b[0m\u001b[0minput\u001b[0m\u001b[0;34m)\u001b[0m\u001b[0;34m)\u001b[0m\u001b[0;34m\u001b[0m\u001b[0m\n\u001b[0m\u001b[1;32m     16\u001b[0m         \u001b[0;32mreturn\u001b[0m \u001b[0moutput\u001b[0m \u001b[0;32mif\u001b[0m \u001b[0moutput\u001b[0m \u001b[0;32melse\u001b[0m \u001b[0minput\u001b[0m\u001b[0;34m\u001b[0m\u001b[0m\n\u001b[1;32m     17\u001b[0m \u001b[0;34m\u001b[0m\u001b[0m\n",
            "\u001b[0;32m/usr/local/lib/python3.6/dist-packages/torch/nn/modules/module.py\u001b[0m in \u001b[0;36m__call__\u001b[0;34m(self, *input, **kwargs)\u001b[0m\n\u001b[1;32m    323\u001b[0m         \u001b[0;32mfor\u001b[0m \u001b[0mhook\u001b[0m \u001b[0;32min\u001b[0m \u001b[0mself\u001b[0m\u001b[0;34m.\u001b[0m\u001b[0m_forward_pre_hooks\u001b[0m\u001b[0;34m.\u001b[0m\u001b[0mvalues\u001b[0m\u001b[0;34m(\u001b[0m\u001b[0;34m)\u001b[0m\u001b[0;34m:\u001b[0m\u001b[0;34m\u001b[0m\u001b[0m\n\u001b[1;32m    324\u001b[0m             \u001b[0mhook\u001b[0m\u001b[0;34m(\u001b[0m\u001b[0mself\u001b[0m\u001b[0;34m,\u001b[0m \u001b[0minput\u001b[0m\u001b[0;34m)\u001b[0m\u001b[0;34m\u001b[0m\u001b[0m\n\u001b[0;32m--> 325\u001b[0;31m         \u001b[0mresult\u001b[0m \u001b[0;34m=\u001b[0m \u001b[0mself\u001b[0m\u001b[0;34m.\u001b[0m\u001b[0mforward\u001b[0m\u001b[0;34m(\u001b[0m\u001b[0;34m*\u001b[0m\u001b[0minput\u001b[0m\u001b[0;34m,\u001b[0m \u001b[0;34m**\u001b[0m\u001b[0mkwargs\u001b[0m\u001b[0;34m)\u001b[0m\u001b[0;34m\u001b[0m\u001b[0m\n\u001b[0m\u001b[1;32m    326\u001b[0m         \u001b[0;32mfor\u001b[0m \u001b[0mhook\u001b[0m \u001b[0;32min\u001b[0m \u001b[0mself\u001b[0m\u001b[0;34m.\u001b[0m\u001b[0m_forward_hooks\u001b[0m\u001b[0;34m.\u001b[0m\u001b[0mvalues\u001b[0m\u001b[0;34m(\u001b[0m\u001b[0;34m)\u001b[0m\u001b[0;34m:\u001b[0m\u001b[0;34m\u001b[0m\u001b[0m\n\u001b[1;32m    327\u001b[0m             \u001b[0mhook_result\u001b[0m \u001b[0;34m=\u001b[0m \u001b[0mhook\u001b[0m\u001b[0;34m(\u001b[0m\u001b[0mself\u001b[0m\u001b[0;34m,\u001b[0m \u001b[0minput\u001b[0m\u001b[0;34m,\u001b[0m \u001b[0mresult\u001b[0m\u001b[0;34m)\u001b[0m\u001b[0;34m\u001b[0m\u001b[0m\n",
            "\u001b[0;32m/usr/local/lib/python3.6/dist-packages/torch/nn/modules/container.py\u001b[0m in \u001b[0;36mforward\u001b[0;34m(self, input)\u001b[0m\n\u001b[1;32m     65\u001b[0m     \u001b[0;32mdef\u001b[0m \u001b[0mforward\u001b[0m\u001b[0;34m(\u001b[0m\u001b[0mself\u001b[0m\u001b[0;34m,\u001b[0m \u001b[0minput\u001b[0m\u001b[0;34m)\u001b[0m\u001b[0;34m:\u001b[0m\u001b[0;34m\u001b[0m\u001b[0m\n\u001b[1;32m     66\u001b[0m         \u001b[0;32mfor\u001b[0m \u001b[0mmodule\u001b[0m \u001b[0;32min\u001b[0m \u001b[0mself\u001b[0m\u001b[0;34m.\u001b[0m\u001b[0m_modules\u001b[0m\u001b[0;34m.\u001b[0m\u001b[0mvalues\u001b[0m\u001b[0;34m(\u001b[0m\u001b[0;34m)\u001b[0m\u001b[0;34m:\u001b[0m\u001b[0;34m\u001b[0m\u001b[0m\n\u001b[0;32m---> 67\u001b[0;31m             \u001b[0minput\u001b[0m \u001b[0;34m=\u001b[0m \u001b[0mmodule\u001b[0m\u001b[0;34m(\u001b[0m\u001b[0minput\u001b[0m\u001b[0;34m)\u001b[0m\u001b[0;34m\u001b[0m\u001b[0m\n\u001b[0m\u001b[1;32m     68\u001b[0m         \u001b[0;32mreturn\u001b[0m \u001b[0minput\u001b[0m\u001b[0;34m\u001b[0m\u001b[0m\n\u001b[1;32m     69\u001b[0m \u001b[0;34m\u001b[0m\u001b[0m\n",
            "\u001b[0;32m/usr/local/lib/python3.6/dist-packages/torch/nn/modules/module.py\u001b[0m in \u001b[0;36m__call__\u001b[0;34m(self, *input, **kwargs)\u001b[0m\n\u001b[1;32m    323\u001b[0m         \u001b[0;32mfor\u001b[0m \u001b[0mhook\u001b[0m \u001b[0;32min\u001b[0m \u001b[0mself\u001b[0m\u001b[0;34m.\u001b[0m\u001b[0m_forward_pre_hooks\u001b[0m\u001b[0;34m.\u001b[0m\u001b[0mvalues\u001b[0m\u001b[0;34m(\u001b[0m\u001b[0;34m)\u001b[0m\u001b[0;34m:\u001b[0m\u001b[0;34m\u001b[0m\u001b[0m\n\u001b[1;32m    324\u001b[0m             \u001b[0mhook\u001b[0m\u001b[0;34m(\u001b[0m\u001b[0mself\u001b[0m\u001b[0;34m,\u001b[0m \u001b[0minput\u001b[0m\u001b[0;34m)\u001b[0m\u001b[0;34m\u001b[0m\u001b[0m\n\u001b[0;32m--> 325\u001b[0;31m         \u001b[0mresult\u001b[0m \u001b[0;34m=\u001b[0m \u001b[0mself\u001b[0m\u001b[0;34m.\u001b[0m\u001b[0mforward\u001b[0m\u001b[0;34m(\u001b[0m\u001b[0;34m*\u001b[0m\u001b[0minput\u001b[0m\u001b[0;34m,\u001b[0m \u001b[0;34m**\u001b[0m\u001b[0mkwargs\u001b[0m\u001b[0;34m)\u001b[0m\u001b[0;34m\u001b[0m\u001b[0m\n\u001b[0m\u001b[1;32m    326\u001b[0m         \u001b[0;32mfor\u001b[0m \u001b[0mhook\u001b[0m \u001b[0;32min\u001b[0m \u001b[0mself\u001b[0m\u001b[0;34m.\u001b[0m\u001b[0m_forward_hooks\u001b[0m\u001b[0;34m.\u001b[0m\u001b[0mvalues\u001b[0m\u001b[0;34m(\u001b[0m\u001b[0;34m)\u001b[0m\u001b[0;34m:\u001b[0m\u001b[0;34m\u001b[0m\u001b[0m\n\u001b[1;32m    327\u001b[0m             \u001b[0mhook_result\u001b[0m \u001b[0;34m=\u001b[0m \u001b[0mhook\u001b[0m\u001b[0;34m(\u001b[0m\u001b[0mself\u001b[0m\u001b[0;34m,\u001b[0m \u001b[0minput\u001b[0m\u001b[0;34m,\u001b[0m \u001b[0mresult\u001b[0m\u001b[0;34m)\u001b[0m\u001b[0;34m\u001b[0m\u001b[0m\n",
            "\u001b[0;32m/usr/local/lib/python3.6/dist-packages/torch/nn/modules/container.py\u001b[0m in \u001b[0;36mforward\u001b[0;34m(self, input)\u001b[0m\n\u001b[1;32m     65\u001b[0m     \u001b[0;32mdef\u001b[0m \u001b[0mforward\u001b[0m\u001b[0;34m(\u001b[0m\u001b[0mself\u001b[0m\u001b[0;34m,\u001b[0m \u001b[0minput\u001b[0m\u001b[0;34m)\u001b[0m\u001b[0;34m:\u001b[0m\u001b[0;34m\u001b[0m\u001b[0m\n\u001b[1;32m     66\u001b[0m         \u001b[0;32mfor\u001b[0m \u001b[0mmodule\u001b[0m \u001b[0;32min\u001b[0m \u001b[0mself\u001b[0m\u001b[0;34m.\u001b[0m\u001b[0m_modules\u001b[0m\u001b[0;34m.\u001b[0m\u001b[0mvalues\u001b[0m\u001b[0;34m(\u001b[0m\u001b[0;34m)\u001b[0m\u001b[0;34m:\u001b[0m\u001b[0;34m\u001b[0m\u001b[0m\n\u001b[0;32m---> 67\u001b[0;31m             \u001b[0minput\u001b[0m \u001b[0;34m=\u001b[0m \u001b[0mmodule\u001b[0m\u001b[0;34m(\u001b[0m\u001b[0minput\u001b[0m\u001b[0;34m)\u001b[0m\u001b[0;34m\u001b[0m\u001b[0m\n\u001b[0m\u001b[1;32m     68\u001b[0m         \u001b[0;32mreturn\u001b[0m \u001b[0minput\u001b[0m\u001b[0;34m\u001b[0m\u001b[0m\n\u001b[1;32m     69\u001b[0m \u001b[0;34m\u001b[0m\u001b[0m\n",
            "\u001b[0;32m/usr/local/lib/python3.6/dist-packages/torch/nn/modules/module.py\u001b[0m in \u001b[0;36m__call__\u001b[0;34m(self, *input, **kwargs)\u001b[0m\n\u001b[1;32m    323\u001b[0m         \u001b[0;32mfor\u001b[0m \u001b[0mhook\u001b[0m \u001b[0;32min\u001b[0m \u001b[0mself\u001b[0m\u001b[0;34m.\u001b[0m\u001b[0m_forward_pre_hooks\u001b[0m\u001b[0;34m.\u001b[0m\u001b[0mvalues\u001b[0m\u001b[0;34m(\u001b[0m\u001b[0;34m)\u001b[0m\u001b[0;34m:\u001b[0m\u001b[0;34m\u001b[0m\u001b[0m\n\u001b[1;32m    324\u001b[0m             \u001b[0mhook\u001b[0m\u001b[0;34m(\u001b[0m\u001b[0mself\u001b[0m\u001b[0;34m,\u001b[0m \u001b[0minput\u001b[0m\u001b[0;34m)\u001b[0m\u001b[0;34m\u001b[0m\u001b[0m\n\u001b[0;32m--> 325\u001b[0;31m         \u001b[0mresult\u001b[0m \u001b[0;34m=\u001b[0m \u001b[0mself\u001b[0m\u001b[0;34m.\u001b[0m\u001b[0mforward\u001b[0m\u001b[0;34m(\u001b[0m\u001b[0;34m*\u001b[0m\u001b[0minput\u001b[0m\u001b[0;34m,\u001b[0m \u001b[0;34m**\u001b[0m\u001b[0mkwargs\u001b[0m\u001b[0;34m)\u001b[0m\u001b[0;34m\u001b[0m\u001b[0m\n\u001b[0m\u001b[1;32m    326\u001b[0m         \u001b[0;32mfor\u001b[0m \u001b[0mhook\u001b[0m \u001b[0;32min\u001b[0m \u001b[0mself\u001b[0m\u001b[0;34m.\u001b[0m\u001b[0m_forward_hooks\u001b[0m\u001b[0;34m.\u001b[0m\u001b[0mvalues\u001b[0m\u001b[0;34m(\u001b[0m\u001b[0;34m)\u001b[0m\u001b[0;34m:\u001b[0m\u001b[0;34m\u001b[0m\u001b[0m\n\u001b[1;32m    327\u001b[0m             \u001b[0mhook_result\u001b[0m \u001b[0;34m=\u001b[0m \u001b[0mhook\u001b[0m\u001b[0;34m(\u001b[0m\u001b[0mself\u001b[0m\u001b[0;34m,\u001b[0m \u001b[0minput\u001b[0m\u001b[0;34m,\u001b[0m \u001b[0mresult\u001b[0m\u001b[0;34m)\u001b[0m\u001b[0;34m\u001b[0m\u001b[0m\n",
            "\u001b[0;32m/usr/local/lib/python3.6/dist-packages/torch/nn/modules/conv.py\u001b[0m in \u001b[0;36mforward\u001b[0;34m(self, input)\u001b[0m\n\u001b[1;32m    275\u001b[0m     \u001b[0;32mdef\u001b[0m \u001b[0mforward\u001b[0m\u001b[0;34m(\u001b[0m\u001b[0mself\u001b[0m\u001b[0;34m,\u001b[0m \u001b[0minput\u001b[0m\u001b[0;34m)\u001b[0m\u001b[0;34m:\u001b[0m\u001b[0;34m\u001b[0m\u001b[0m\n\u001b[1;32m    276\u001b[0m         return F.conv2d(input, self.weight, self.bias, self.stride,\n\u001b[0;32m--> 277\u001b[0;31m                         self.padding, self.dilation, self.groups)\n\u001b[0m\u001b[1;32m    278\u001b[0m \u001b[0;34m\u001b[0m\u001b[0m\n\u001b[1;32m    279\u001b[0m \u001b[0;34m\u001b[0m\u001b[0m\n",
            "\u001b[0;32m/usr/local/lib/python3.6/dist-packages/torch/nn/functional.py\u001b[0m in \u001b[0;36mconv2d\u001b[0;34m(input, weight, bias, stride, padding, dilation, groups)\u001b[0m\n\u001b[1;32m     88\u001b[0m                 \u001b[0m_pair\u001b[0m\u001b[0;34m(\u001b[0m\u001b[0;36m0\u001b[0m\u001b[0;34m)\u001b[0m\u001b[0;34m,\u001b[0m \u001b[0mgroups\u001b[0m\u001b[0;34m,\u001b[0m \u001b[0mtorch\u001b[0m\u001b[0;34m.\u001b[0m\u001b[0mbackends\u001b[0m\u001b[0;34m.\u001b[0m\u001b[0mcudnn\u001b[0m\u001b[0;34m.\u001b[0m\u001b[0mbenchmark\u001b[0m\u001b[0;34m,\u001b[0m\u001b[0;34m\u001b[0m\u001b[0m\n\u001b[1;32m     89\u001b[0m                 torch.backends.cudnn.deterministic, torch.backends.cudnn.enabled)\n\u001b[0;32m---> 90\u001b[0;31m     \u001b[0;32mreturn\u001b[0m \u001b[0mf\u001b[0m\u001b[0;34m(\u001b[0m\u001b[0minput\u001b[0m\u001b[0;34m,\u001b[0m \u001b[0mweight\u001b[0m\u001b[0;34m,\u001b[0m \u001b[0mbias\u001b[0m\u001b[0;34m)\u001b[0m\u001b[0;34m\u001b[0m\u001b[0m\n\u001b[0m\u001b[1;32m     91\u001b[0m \u001b[0;34m\u001b[0m\u001b[0m\n\u001b[1;32m     92\u001b[0m \u001b[0;34m\u001b[0m\u001b[0m\n",
            "\u001b[0;31mKeyboardInterrupt\u001b[0m: "
          ]
        }
      ]
    },
    {
      "cell_type": "code",
      "metadata": {
        "id": "ud7FLI_TFIs5",
        "colab_type": "code",
        "colab": {}
      },
      "source": [
        "learn.sched.plot_lr()"
      ],
      "execution_count": null,
      "outputs": []
    },
    {
      "cell_type": "code",
      "metadata": {
        "id": "waHnAtftFIs_",
        "colab_type": "code",
        "colab": {}
      },
      "source": [
        "learn.save('224_lastlayer')"
      ],
      "execution_count": null,
      "outputs": []
    },
    {
      "cell_type": "code",
      "metadata": {
        "id": "-N-k80zQFItD",
        "colab_type": "code",
        "colab": {}
      },
      "source": [
        "learn.load('224_lastlayer')"
      ],
      "execution_count": null,
      "outputs": []
    },
    {
      "cell_type": "markdown",
      "metadata": {
        "id": "gizftWT_FItG",
        "colab_type": "text"
      },
      "source": [
        "### Fine-tuning and differential learning rate annealing"
      ]
    },
    {
      "cell_type": "code",
      "metadata": {
        "id": "MLnVXyUmFItI",
        "colab_type": "code",
        "colab": {}
      },
      "source": [
        "learn.freeze()"
      ],
      "execution_count": null,
      "outputs": []
    },
    {
      "cell_type": "code",
      "metadata": {
        "id": "blj5bOJ5T0vg",
        "colab_type": "code",
        "colab": {}
      },
      "source": [
        "lr = 3e-2"
      ],
      "execution_count": null,
      "outputs": []
    },
    {
      "cell_type": "code",
      "metadata": {
        "id": "hrHlPkl3FItP",
        "colab_type": "code",
        "colab": {}
      },
      "source": [
        "lr=np.array([lr/18,lr/6,lr/2])"
      ],
      "execution_count": null,
      "outputs": []
    },
    {
      "cell_type": "code",
      "metadata": {
        "id": "wM9kMaHJFItT",
        "colab_type": "code",
        "colab": {}
      },
      "source": [
        "learn.fit(lr, 2, cycle_len=1, cycle_mult=2)"
      ],
      "execution_count": null,
      "outputs": []
    },
    {
      "cell_type": "code",
      "metadata": {
        "id": "4_Xe-IysFIte",
        "colab_type": "code",
        "colab": {}
      },
      "source": [
        "learn.sched.plot_lr()"
      ],
      "execution_count": null,
      "outputs": []
    },
    {
      "cell_type": "code",
      "metadata": {
        "id": "NYdQYfR8FItp",
        "colab_type": "code",
        "colab": {}
      },
      "source": [
        "learn.save('224_all')"
      ],
      "execution_count": null,
      "outputs": []
    },
    {
      "cell_type": "code",
      "metadata": {
        "id": "LHtEjEvbFItt",
        "colab_type": "code",
        "colab": {}
      },
      "source": [
        "learn.load('224_all')"
      ],
      "execution_count": null,
      "outputs": []
    },
    {
      "cell_type": "code",
      "metadata": {
        "id": "-wF9fVHm8Bdv",
        "colab_type": "code",
        "colab": {
          "base_uri": "https://localhost:8080/",
          "height": 340
        },
        "outputId": "a89611fd-b671-4b2d-e858-a2f77475de48"
      },
      "source": [
        "log_preds,y = learn.TTA()\n",
        "accuracy(log_preds,y)"
      ],
      "execution_count": null,
      "outputs": [
        {
          "output_type": "stream",
          "text": [
            "\n",
            "\n",
            "\n",
            "  0%|          | 0/4 [00:00<?, ?it/s]\u001b[A\u001b[A\u001b[A\n",
            "\n",
            "\n",
            " 25%|██▌       | 1/4 [00:09<00:27,  9.31s/it]\u001b[A\u001b[A\u001b[A\n",
            "\n",
            "\n",
            " 50%|█████     | 2/4 [00:18<00:18,  9.29s/it]\u001b[A\u001b[A\u001b[A\n",
            "\n",
            "\n",
            " 75%|███████▌  | 3/4 [00:24<00:08,  8.15s/it]\u001b[A\u001b[A\u001b[A\n",
            "\n",
            "\n",
            "100%|██████████| 4/4 [00:29<00:00,  7.47s/it]\u001b[A\u001b[A\u001b[A\n",
            "\n",
            "\n",
            "                                             \u001b[A\u001b[A\u001b[A"
          ],
          "name": "stdout"
        },
        {
          "output_type": "execute_result",
          "data": {
            "text/plain": [
              "0.96"
            ]
          },
          "metadata": {
            "tags": []
          },
          "execution_count": 82
        }
      ]
    },
    {
      "cell_type": "code",
      "metadata": {
        "id": "9CC7MB9HFIt2",
        "colab_type": "code",
        "colab": {
          "base_uri": "https://localhost:8080/",
          "height": 34
        },
        "outputId": "5da3d0f3-ad39-4946-df20-e8b1978d0f16"
      },
      "source": [
        "log_preds_test = learn.predict(is_test=True)\n",
        "log_preds_test.shape"
      ],
      "execution_count": null,
      "outputs": [
        {
          "output_type": "execute_result",
          "data": {
            "text/plain": [
              "(794, 12)"
            ]
          },
          "metadata": {
            "tags": []
          },
          "execution_count": 83
        }
      ]
    },
    {
      "cell_type": "code",
      "metadata": {
        "id": "kGY5r6kOFIt6",
        "colab_type": "code",
        "colab": {}
      },
      "source": [
        "log_preds_test = np.argmax(log_preds_test, axis=1)\n",
        "preds_classes = [data.classes[i].replace(\"_\", \" \") for i in log_preds_test]\n",
        "probs = np.exp(log_preds_test)"
      ],
      "execution_count": null,
      "outputs": []
    },
    {
      "cell_type": "code",
      "metadata": {
        "id": "ISV_kBL7FIt9",
        "colab_type": "code",
        "colab": {}
      },
      "source": [
        "submission = pd.DataFrame({'file': os.listdir(f'{PATH}test'), 'species': preds_classes})\n",
        "submission.to_csv('submissionfreezepsc.csv', index=False)"
      ],
      "execution_count": null,
      "outputs": []
    },
    {
      "cell_type": "code",
      "metadata": {
        "id": "Tlvgez-vPTUP",
        "colab_type": "code",
        "colab": {}
      },
      "source": [
        "from google.colab import files"
      ],
      "execution_count": null,
      "outputs": []
    },
    {
      "cell_type": "code",
      "metadata": {
        "id": "RuxpAyVgP8qc",
        "colab_type": "code",
        "colab": {}
      },
      "source": [
        "files.download('submissionfreezepsc.csv')"
      ],
      "execution_count": null,
      "outputs": []
    },
    {
      "cell_type": "code",
      "metadata": {
        "id": "Mie40LgK_XBL",
        "colab_type": "code",
        "colab": {
          "base_uri": "https://localhost:8080/",
          "height": 204
        },
        "outputId": "5d766d03-a82f-404f-c1f8-7281e08ddaba"
      },
      "source": [
        "submission.head()"
      ],
      "execution_count": null,
      "outputs": [
        {
          "output_type": "execute_result",
          "data": {
            "text/html": [
              "<div>\n",
              "<style scoped>\n",
              "    .dataframe tbody tr th:only-of-type {\n",
              "        vertical-align: middle;\n",
              "    }\n",
              "\n",
              "    .dataframe tbody tr th {\n",
              "        vertical-align: top;\n",
              "    }\n",
              "\n",
              "    .dataframe thead th {\n",
              "        text-align: right;\n",
              "    }\n",
              "</style>\n",
              "<table border=\"1\" class=\"dataframe\">\n",
              "  <thead>\n",
              "    <tr style=\"text-align: right;\">\n",
              "      <th></th>\n",
              "      <th>file</th>\n",
              "      <th>species</th>\n",
              "    </tr>\n",
              "  </thead>\n",
              "  <tbody>\n",
              "    <tr>\n",
              "      <th>0</th>\n",
              "      <td>cbe761896.png</td>\n",
              "      <td>Charlock</td>\n",
              "    </tr>\n",
              "    <tr>\n",
              "      <th>1</th>\n",
              "      <td>808578ed5.png</td>\n",
              "      <td>Charlock</td>\n",
              "    </tr>\n",
              "    <tr>\n",
              "      <th>2</th>\n",
              "      <td>90d119d25.png</td>\n",
              "      <td>Scentless Mayweed</td>\n",
              "    </tr>\n",
              "    <tr>\n",
              "      <th>3</th>\n",
              "      <td>6bce55e05.png</td>\n",
              "      <td>Cleavers</td>\n",
              "    </tr>\n",
              "    <tr>\n",
              "      <th>4</th>\n",
              "      <td>026716f9b.png</td>\n",
              "      <td>Black-grass</td>\n",
              "    </tr>\n",
              "  </tbody>\n",
              "</table>\n",
              "</div>"
            ],
            "text/plain": [
              "            file            species\n",
              "0  cbe761896.png           Charlock\n",
              "1  808578ed5.png           Charlock\n",
              "2  90d119d25.png  Scentless Mayweed\n",
              "3  6bce55e05.png           Cleavers\n",
              "4  026716f9b.png        Black-grass"
            ]
          },
          "metadata": {
            "tags": []
          },
          "execution_count": 91
        }
      ]
    },
    {
      "cell_type": "markdown",
      "metadata": {
        "id": "PpurPA-WFIt_",
        "colab_type": "text"
      },
      "source": [
        "## Analyzing results"
      ]
    },
    {
      "cell_type": "markdown",
      "metadata": {
        "id": "GSJL8olMFIuA",
        "colab_type": "text"
      },
      "source": [
        "### Confusion matrix "
      ]
    },
    {
      "cell_type": "code",
      "metadata": {
        "id": "jTGtJFE6FIuB",
        "colab_type": "code",
        "colab": {}
      },
      "source": [
        "preds = np.argmax(log_preds, axis=1)\n",
        "probs = np.exp(log_preds[:,1])"
      ],
      "execution_count": null,
      "outputs": []
    },
    {
      "cell_type": "markdown",
      "metadata": {
        "id": "JjkfIyXnFIuD",
        "colab_type": "text"
      },
      "source": [
        "A common way to analyze the result of a classification model is to use a [confusion matrix](http://www.dataschool.io/simple-guide-to-confusion-matrix-terminology/). Scikit-learn has a convenient function we can use for this purpose:"
      ]
    },
    {
      "cell_type": "code",
      "metadata": {
        "id": "IOYc0kHyFIuE",
        "colab_type": "code",
        "colab": {}
      },
      "source": [
        "from sklearn.metrics import confusion_matrix\n",
        "cm = confusion_matrix(y, preds)"
      ],
      "execution_count": null,
      "outputs": []
    },
    {
      "cell_type": "markdown",
      "metadata": {
        "id": "y4CvaUsoFIuG",
        "colab_type": "text"
      },
      "source": [
        "We can just print out the confusion matrix, or we can show a graphical view (which is mainly useful for dependents with a larger number of categories)."
      ]
    },
    {
      "cell_type": "code",
      "metadata": {
        "id": "wvdd8avrFIuH",
        "colab_type": "code",
        "colab": {}
      },
      "source": [
        "plot_confusion_matrix(cm, data.classes)"
      ],
      "execution_count": null,
      "outputs": []
    },
    {
      "cell_type": "markdown",
      "metadata": {
        "id": "23Y-YQxzFIuL",
        "colab_type": "text"
      },
      "source": [
        "## Review: easy steps to train a world-class image classifier"
      ]
    },
    {
      "cell_type": "markdown",
      "metadata": {
        "id": "P4b7ZOkjFIuM",
        "colab_type": "text"
      },
      "source": [
        "1. Enable data augmentation, and precompute=True\n",
        "1. Use `lr_find()` to find highest learning rate where loss is still clearly improving\n",
        "1. Train last layer from precomputed activations for 1-2 epochs\n",
        "1. Train last layer with data augmentation (i.e. precompute=False) for 2-3 epochs with cycle_len=1\n",
        "1. Unfreeze all layers\n",
        "1. Set earlier layers to 3x-10x lower learning rate than next higher layer\n",
        "1. Use `lr_find()` again\n",
        "1. Train full network with cycle_mult=2 until over-fitting"
      ]
    }
  ]
}